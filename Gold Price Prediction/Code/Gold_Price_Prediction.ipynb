{
  "nbformat": 4,
  "nbformat_minor": 0,
  "metadata": {
    "colab": {
      "provenance": []
    },
    "kernelspec": {
      "name": "python3",
      "display_name": "Python 3"
    },
    "language_info": {
      "name": "python"
    }
  },
  "cells": [
    {
      "cell_type": "markdown",
      "source": [
        "## Importing the Libraries"
      ],
      "metadata": {
        "id": "u8n1zkbLGO6H"
      }
    },
    {
      "cell_type": "code",
      "source": [
        "import numpy as np\n",
        "import pandas as pd\n",
        "import matplotlib.pyplot as plt \n",
        "import seaborn as sns"
      ],
      "metadata": {
        "id": "v6SPz4bwGYwu"
      },
      "execution_count": 17,
      "outputs": []
    },
    {
      "cell_type": "markdown",
      "source": [
        "## Data collection and processing"
      ],
      "metadata": {
        "id": "ALe3-AmfGulE"
      }
    },
    {
      "cell_type": "code",
      "source": [
        "df = pd.read_csv('gld_price_data.csv')"
      ],
      "metadata": {
        "id": "fD2rXEhVGnIE"
      },
      "execution_count": 18,
      "outputs": []
    },
    {
      "cell_type": "code",
      "source": [
        "df.head()"
      ],
      "metadata": {
        "colab": {
          "base_uri": "https://localhost:8080/",
          "height": 206
        },
        "id": "V417vgkiHQTF",
        "outputId": "62645975-785f-40e8-aadb-6747a850463c"
      },
      "execution_count": 19,
      "outputs": [
        {
          "output_type": "execute_result",
          "data": {
            "text/plain": [
              "       Date          SPX        GLD        USO     SLV   EUR/USD\n",
              "0  1/2/2008  1447.160034  84.860001  78.470001  15.180  1.471692\n",
              "1  1/3/2008  1447.160034  85.570000  78.370003  15.285  1.474491\n",
              "2  1/4/2008  1411.630005  85.129997  77.309998  15.167  1.475492\n",
              "3  1/7/2008  1416.180054  84.769997  75.500000  15.053  1.468299\n",
              "4  1/8/2008  1390.189941  86.779999  76.059998  15.590  1.557099"
            ],
            "text/html": [
              "\n",
              "  <div id=\"df-3c15a079-ecdc-4597-a1a5-72ab511fe124\">\n",
              "    <div class=\"colab-df-container\">\n",
              "      <div>\n",
              "<style scoped>\n",
              "    .dataframe tbody tr th:only-of-type {\n",
              "        vertical-align: middle;\n",
              "    }\n",
              "\n",
              "    .dataframe tbody tr th {\n",
              "        vertical-align: top;\n",
              "    }\n",
              "\n",
              "    .dataframe thead th {\n",
              "        text-align: right;\n",
              "    }\n",
              "</style>\n",
              "<table border=\"1\" class=\"dataframe\">\n",
              "  <thead>\n",
              "    <tr style=\"text-align: right;\">\n",
              "      <th></th>\n",
              "      <th>Date</th>\n",
              "      <th>SPX</th>\n",
              "      <th>GLD</th>\n",
              "      <th>USO</th>\n",
              "      <th>SLV</th>\n",
              "      <th>EUR/USD</th>\n",
              "    </tr>\n",
              "  </thead>\n",
              "  <tbody>\n",
              "    <tr>\n",
              "      <th>0</th>\n",
              "      <td>1/2/2008</td>\n",
              "      <td>1447.160034</td>\n",
              "      <td>84.860001</td>\n",
              "      <td>78.470001</td>\n",
              "      <td>15.180</td>\n",
              "      <td>1.471692</td>\n",
              "    </tr>\n",
              "    <tr>\n",
              "      <th>1</th>\n",
              "      <td>1/3/2008</td>\n",
              "      <td>1447.160034</td>\n",
              "      <td>85.570000</td>\n",
              "      <td>78.370003</td>\n",
              "      <td>15.285</td>\n",
              "      <td>1.474491</td>\n",
              "    </tr>\n",
              "    <tr>\n",
              "      <th>2</th>\n",
              "      <td>1/4/2008</td>\n",
              "      <td>1411.630005</td>\n",
              "      <td>85.129997</td>\n",
              "      <td>77.309998</td>\n",
              "      <td>15.167</td>\n",
              "      <td>1.475492</td>\n",
              "    </tr>\n",
              "    <tr>\n",
              "      <th>3</th>\n",
              "      <td>1/7/2008</td>\n",
              "      <td>1416.180054</td>\n",
              "      <td>84.769997</td>\n",
              "      <td>75.500000</td>\n",
              "      <td>15.053</td>\n",
              "      <td>1.468299</td>\n",
              "    </tr>\n",
              "    <tr>\n",
              "      <th>4</th>\n",
              "      <td>1/8/2008</td>\n",
              "      <td>1390.189941</td>\n",
              "      <td>86.779999</td>\n",
              "      <td>76.059998</td>\n",
              "      <td>15.590</td>\n",
              "      <td>1.557099</td>\n",
              "    </tr>\n",
              "  </tbody>\n",
              "</table>\n",
              "</div>\n",
              "      <button class=\"colab-df-convert\" onclick=\"convertToInteractive('df-3c15a079-ecdc-4597-a1a5-72ab511fe124')\"\n",
              "              title=\"Convert this dataframe to an interactive table.\"\n",
              "              style=\"display:none;\">\n",
              "        \n",
              "  <svg xmlns=\"http://www.w3.org/2000/svg\" height=\"24px\"viewBox=\"0 0 24 24\"\n",
              "       width=\"24px\">\n",
              "    <path d=\"M0 0h24v24H0V0z\" fill=\"none\"/>\n",
              "    <path d=\"M18.56 5.44l.94 2.06.94-2.06 2.06-.94-2.06-.94-.94-2.06-.94 2.06-2.06.94zm-11 1L8.5 8.5l.94-2.06 2.06-.94-2.06-.94L8.5 2.5l-.94 2.06-2.06.94zm10 10l.94 2.06.94-2.06 2.06-.94-2.06-.94-.94-2.06-.94 2.06-2.06.94z\"/><path d=\"M17.41 7.96l-1.37-1.37c-.4-.4-.92-.59-1.43-.59-.52 0-1.04.2-1.43.59L10.3 9.45l-7.72 7.72c-.78.78-.78 2.05 0 2.83L4 21.41c.39.39.9.59 1.41.59.51 0 1.02-.2 1.41-.59l7.78-7.78 2.81-2.81c.8-.78.8-2.07 0-2.86zM5.41 20L4 18.59l7.72-7.72 1.47 1.35L5.41 20z\"/>\n",
              "  </svg>\n",
              "      </button>\n",
              "      \n",
              "  <style>\n",
              "    .colab-df-container {\n",
              "      display:flex;\n",
              "      flex-wrap:wrap;\n",
              "      gap: 12px;\n",
              "    }\n",
              "\n",
              "    .colab-df-convert {\n",
              "      background-color: #E8F0FE;\n",
              "      border: none;\n",
              "      border-radius: 50%;\n",
              "      cursor: pointer;\n",
              "      display: none;\n",
              "      fill: #1967D2;\n",
              "      height: 32px;\n",
              "      padding: 0 0 0 0;\n",
              "      width: 32px;\n",
              "    }\n",
              "\n",
              "    .colab-df-convert:hover {\n",
              "      background-color: #E2EBFA;\n",
              "      box-shadow: 0px 1px 2px rgba(60, 64, 67, 0.3), 0px 1px 3px 1px rgba(60, 64, 67, 0.15);\n",
              "      fill: #174EA6;\n",
              "    }\n",
              "\n",
              "    [theme=dark] .colab-df-convert {\n",
              "      background-color: #3B4455;\n",
              "      fill: #D2E3FC;\n",
              "    }\n",
              "\n",
              "    [theme=dark] .colab-df-convert:hover {\n",
              "      background-color: #434B5C;\n",
              "      box-shadow: 0px 1px 3px 1px rgba(0, 0, 0, 0.15);\n",
              "      filter: drop-shadow(0px 1px 2px rgba(0, 0, 0, 0.3));\n",
              "      fill: #FFFFFF;\n",
              "    }\n",
              "  </style>\n",
              "\n",
              "      <script>\n",
              "        const buttonEl =\n",
              "          document.querySelector('#df-3c15a079-ecdc-4597-a1a5-72ab511fe124 button.colab-df-convert');\n",
              "        buttonEl.style.display =\n",
              "          google.colab.kernel.accessAllowed ? 'block' : 'none';\n",
              "\n",
              "        async function convertToInteractive(key) {\n",
              "          const element = document.querySelector('#df-3c15a079-ecdc-4597-a1a5-72ab511fe124');\n",
              "          const dataTable =\n",
              "            await google.colab.kernel.invokeFunction('convertToInteractive',\n",
              "                                                     [key], {});\n",
              "          if (!dataTable) return;\n",
              "\n",
              "          const docLinkHtml = 'Like what you see? Visit the ' +\n",
              "            '<a target=\"_blank\" href=https://colab.research.google.com/notebooks/data_table.ipynb>data table notebook</a>'\n",
              "            + ' to learn more about interactive tables.';\n",
              "          element.innerHTML = '';\n",
              "          dataTable['output_type'] = 'display_data';\n",
              "          await google.colab.output.renderOutput(dataTable, element);\n",
              "          const docLink = document.createElement('div');\n",
              "          docLink.innerHTML = docLinkHtml;\n",
              "          element.appendChild(docLink);\n",
              "        }\n",
              "      </script>\n",
              "    </div>\n",
              "  </div>\n",
              "  "
            ]
          },
          "metadata": {},
          "execution_count": 19
        }
      ]
    },
    {
      "cell_type": "code",
      "source": [
        "#checking the number of missing value\n",
        "df.isnull().sum()"
      ],
      "metadata": {
        "colab": {
          "base_uri": "https://localhost:8080/"
        },
        "id": "oWZ13x7PHbH4",
        "outputId": "bdf2e19b-e982-4240-930f-776aefb7fceb"
      },
      "execution_count": 20,
      "outputs": [
        {
          "output_type": "execute_result",
          "data": {
            "text/plain": [
              "Date       0\n",
              "SPX        0\n",
              "GLD        0\n",
              "USO        0\n",
              "SLV        0\n",
              "EUR/USD    0\n",
              "dtype: int64"
            ]
          },
          "metadata": {},
          "execution_count": 20
        }
      ]
    },
    {
      "cell_type": "code",
      "source": [
        "#number of rows and columns\n",
        "df.shape"
      ],
      "metadata": {
        "colab": {
          "base_uri": "https://localhost:8080/"
        },
        "id": "b2ySSbo-Hk9C",
        "outputId": "28c0f4c8-40c4-41fa-b47a-2585ab833e73"
      },
      "execution_count": 21,
      "outputs": [
        {
          "output_type": "execute_result",
          "data": {
            "text/plain": [
              "(2290, 6)"
            ]
          },
          "metadata": {},
          "execution_count": 21
        }
      ]
    },
    {
      "cell_type": "code",
      "source": [
        "#Data type of the data\n",
        "df.info()"
      ],
      "metadata": {
        "colab": {
          "base_uri": "https://localhost:8080/"
        },
        "id": "oxEtXU58IGBl",
        "outputId": "9ede4feb-d83f-40d5-9bd1-20f7d30bf9ab"
      },
      "execution_count": 22,
      "outputs": [
        {
          "output_type": "stream",
          "name": "stdout",
          "text": [
            "<class 'pandas.core.frame.DataFrame'>\n",
            "RangeIndex: 2290 entries, 0 to 2289\n",
            "Data columns (total 6 columns):\n",
            " #   Column   Non-Null Count  Dtype  \n",
            "---  ------   --------------  -----  \n",
            " 0   Date     2290 non-null   object \n",
            " 1   SPX      2290 non-null   float64\n",
            " 2   GLD      2290 non-null   float64\n",
            " 3   USO      2290 non-null   float64\n",
            " 4   SLV      2290 non-null   float64\n",
            " 5   EUR/USD  2290 non-null   float64\n",
            "dtypes: float64(5), object(1)\n",
            "memory usage: 107.5+ KB\n"
          ]
        }
      ]
    },
    {
      "cell_type": "code",
      "source": [
        "# getting the statistical measure of the data\n",
        "df.describe()"
      ],
      "metadata": {
        "colab": {
          "base_uri": "https://localhost:8080/",
          "height": 300
        },
        "id": "qSH6nJP4IaTr",
        "outputId": "f89694c6-fe31-4cd3-8fdd-1f07129ca285"
      },
      "execution_count": 23,
      "outputs": [
        {
          "output_type": "execute_result",
          "data": {
            "text/plain": [
              "               SPX          GLD          USO          SLV      EUR/USD\n",
              "count  2290.000000  2290.000000  2290.000000  2290.000000  2290.000000\n",
              "mean   1654.315776   122.732875    31.842221    20.084997     1.283653\n",
              "std     519.111540    23.283346    19.523517     7.092566     0.131547\n",
              "min     676.530029    70.000000     7.960000     8.850000     1.039047\n",
              "25%    1239.874969   109.725000    14.380000    15.570000     1.171313\n",
              "50%    1551.434998   120.580002    33.869999    17.268500     1.303297\n",
              "75%    2073.010070   132.840004    37.827501    22.882500     1.369971\n",
              "max    2872.870117   184.589996   117.480003    47.259998     1.598798"
            ],
            "text/html": [
              "\n",
              "  <div id=\"df-1ad6bd74-4912-4fd4-8354-0f6b0ea87db8\">\n",
              "    <div class=\"colab-df-container\">\n",
              "      <div>\n",
              "<style scoped>\n",
              "    .dataframe tbody tr th:only-of-type {\n",
              "        vertical-align: middle;\n",
              "    }\n",
              "\n",
              "    .dataframe tbody tr th {\n",
              "        vertical-align: top;\n",
              "    }\n",
              "\n",
              "    .dataframe thead th {\n",
              "        text-align: right;\n",
              "    }\n",
              "</style>\n",
              "<table border=\"1\" class=\"dataframe\">\n",
              "  <thead>\n",
              "    <tr style=\"text-align: right;\">\n",
              "      <th></th>\n",
              "      <th>SPX</th>\n",
              "      <th>GLD</th>\n",
              "      <th>USO</th>\n",
              "      <th>SLV</th>\n",
              "      <th>EUR/USD</th>\n",
              "    </tr>\n",
              "  </thead>\n",
              "  <tbody>\n",
              "    <tr>\n",
              "      <th>count</th>\n",
              "      <td>2290.000000</td>\n",
              "      <td>2290.000000</td>\n",
              "      <td>2290.000000</td>\n",
              "      <td>2290.000000</td>\n",
              "      <td>2290.000000</td>\n",
              "    </tr>\n",
              "    <tr>\n",
              "      <th>mean</th>\n",
              "      <td>1654.315776</td>\n",
              "      <td>122.732875</td>\n",
              "      <td>31.842221</td>\n",
              "      <td>20.084997</td>\n",
              "      <td>1.283653</td>\n",
              "    </tr>\n",
              "    <tr>\n",
              "      <th>std</th>\n",
              "      <td>519.111540</td>\n",
              "      <td>23.283346</td>\n",
              "      <td>19.523517</td>\n",
              "      <td>7.092566</td>\n",
              "      <td>0.131547</td>\n",
              "    </tr>\n",
              "    <tr>\n",
              "      <th>min</th>\n",
              "      <td>676.530029</td>\n",
              "      <td>70.000000</td>\n",
              "      <td>7.960000</td>\n",
              "      <td>8.850000</td>\n",
              "      <td>1.039047</td>\n",
              "    </tr>\n",
              "    <tr>\n",
              "      <th>25%</th>\n",
              "      <td>1239.874969</td>\n",
              "      <td>109.725000</td>\n",
              "      <td>14.380000</td>\n",
              "      <td>15.570000</td>\n",
              "      <td>1.171313</td>\n",
              "    </tr>\n",
              "    <tr>\n",
              "      <th>50%</th>\n",
              "      <td>1551.434998</td>\n",
              "      <td>120.580002</td>\n",
              "      <td>33.869999</td>\n",
              "      <td>17.268500</td>\n",
              "      <td>1.303297</td>\n",
              "    </tr>\n",
              "    <tr>\n",
              "      <th>75%</th>\n",
              "      <td>2073.010070</td>\n",
              "      <td>132.840004</td>\n",
              "      <td>37.827501</td>\n",
              "      <td>22.882500</td>\n",
              "      <td>1.369971</td>\n",
              "    </tr>\n",
              "    <tr>\n",
              "      <th>max</th>\n",
              "      <td>2872.870117</td>\n",
              "      <td>184.589996</td>\n",
              "      <td>117.480003</td>\n",
              "      <td>47.259998</td>\n",
              "      <td>1.598798</td>\n",
              "    </tr>\n",
              "  </tbody>\n",
              "</table>\n",
              "</div>\n",
              "      <button class=\"colab-df-convert\" onclick=\"convertToInteractive('df-1ad6bd74-4912-4fd4-8354-0f6b0ea87db8')\"\n",
              "              title=\"Convert this dataframe to an interactive table.\"\n",
              "              style=\"display:none;\">\n",
              "        \n",
              "  <svg xmlns=\"http://www.w3.org/2000/svg\" height=\"24px\"viewBox=\"0 0 24 24\"\n",
              "       width=\"24px\">\n",
              "    <path d=\"M0 0h24v24H0V0z\" fill=\"none\"/>\n",
              "    <path d=\"M18.56 5.44l.94 2.06.94-2.06 2.06-.94-2.06-.94-.94-2.06-.94 2.06-2.06.94zm-11 1L8.5 8.5l.94-2.06 2.06-.94-2.06-.94L8.5 2.5l-.94 2.06-2.06.94zm10 10l.94 2.06.94-2.06 2.06-.94-2.06-.94-.94-2.06-.94 2.06-2.06.94z\"/><path d=\"M17.41 7.96l-1.37-1.37c-.4-.4-.92-.59-1.43-.59-.52 0-1.04.2-1.43.59L10.3 9.45l-7.72 7.72c-.78.78-.78 2.05 0 2.83L4 21.41c.39.39.9.59 1.41.59.51 0 1.02-.2 1.41-.59l7.78-7.78 2.81-2.81c.8-.78.8-2.07 0-2.86zM5.41 20L4 18.59l7.72-7.72 1.47 1.35L5.41 20z\"/>\n",
              "  </svg>\n",
              "      </button>\n",
              "      \n",
              "  <style>\n",
              "    .colab-df-container {\n",
              "      display:flex;\n",
              "      flex-wrap:wrap;\n",
              "      gap: 12px;\n",
              "    }\n",
              "\n",
              "    .colab-df-convert {\n",
              "      background-color: #E8F0FE;\n",
              "      border: none;\n",
              "      border-radius: 50%;\n",
              "      cursor: pointer;\n",
              "      display: none;\n",
              "      fill: #1967D2;\n",
              "      height: 32px;\n",
              "      padding: 0 0 0 0;\n",
              "      width: 32px;\n",
              "    }\n",
              "\n",
              "    .colab-df-convert:hover {\n",
              "      background-color: #E2EBFA;\n",
              "      box-shadow: 0px 1px 2px rgba(60, 64, 67, 0.3), 0px 1px 3px 1px rgba(60, 64, 67, 0.15);\n",
              "      fill: #174EA6;\n",
              "    }\n",
              "\n",
              "    [theme=dark] .colab-df-convert {\n",
              "      background-color: #3B4455;\n",
              "      fill: #D2E3FC;\n",
              "    }\n",
              "\n",
              "    [theme=dark] .colab-df-convert:hover {\n",
              "      background-color: #434B5C;\n",
              "      box-shadow: 0px 1px 3px 1px rgba(0, 0, 0, 0.15);\n",
              "      filter: drop-shadow(0px 1px 2px rgba(0, 0, 0, 0.3));\n",
              "      fill: #FFFFFF;\n",
              "    }\n",
              "  </style>\n",
              "\n",
              "      <script>\n",
              "        const buttonEl =\n",
              "          document.querySelector('#df-1ad6bd74-4912-4fd4-8354-0f6b0ea87db8 button.colab-df-convert');\n",
              "        buttonEl.style.display =\n",
              "          google.colab.kernel.accessAllowed ? 'block' : 'none';\n",
              "\n",
              "        async function convertToInteractive(key) {\n",
              "          const element = document.querySelector('#df-1ad6bd74-4912-4fd4-8354-0f6b0ea87db8');\n",
              "          const dataTable =\n",
              "            await google.colab.kernel.invokeFunction('convertToInteractive',\n",
              "                                                     [key], {});\n",
              "          if (!dataTable) return;\n",
              "\n",
              "          const docLinkHtml = 'Like what you see? Visit the ' +\n",
              "            '<a target=\"_blank\" href=https://colab.research.google.com/notebooks/data_table.ipynb>data table notebook</a>'\n",
              "            + ' to learn more about interactive tables.';\n",
              "          element.innerHTML = '';\n",
              "          dataTable['output_type'] = 'display_data';\n",
              "          await google.colab.output.renderOutput(dataTable, element);\n",
              "          const docLink = document.createElement('div');\n",
              "          docLink.innerHTML = docLinkHtml;\n",
              "          element.appendChild(docLink);\n",
              "        }\n",
              "      </script>\n",
              "    </div>\n",
              "  </div>\n",
              "  "
            ]
          },
          "metadata": {},
          "execution_count": 23
        }
      ]
    },
    {
      "cell_type": "markdown",
      "source": [
        "## Correlation:\n",
        "\n",
        "\n",
        "1.   Positive Correlation\n",
        "2.   Negetive Correlation\n",
        "\n"
      ],
      "metadata": {
        "id": "bIHmA5-2JXq4"
      }
    },
    {
      "cell_type": "code",
      "source": [
        "correlation = df.corr()"
      ],
      "metadata": {
        "id": "U4p6QoKjJmoJ"
      },
      "execution_count": 24,
      "outputs": []
    },
    {
      "cell_type": "code",
      "source": [
        "correlation"
      ],
      "metadata": {
        "colab": {
          "base_uri": "https://localhost:8080/",
          "height": 206
        },
        "id": "MsKuPx3JJ1yH",
        "outputId": "695f49c9-ebdc-4ea2-d9a2-10cd681cad0a"
      },
      "execution_count": 25,
      "outputs": [
        {
          "output_type": "execute_result",
          "data": {
            "text/plain": [
              "              SPX       GLD       USO       SLV   EUR/USD\n",
              "SPX      1.000000  0.049345 -0.591573 -0.274055 -0.672017\n",
              "GLD      0.049345  1.000000 -0.186360  0.866632 -0.024375\n",
              "USO     -0.591573 -0.186360  1.000000  0.167547  0.829317\n",
              "SLV     -0.274055  0.866632  0.167547  1.000000  0.321631\n",
              "EUR/USD -0.672017 -0.024375  0.829317  0.321631  1.000000"
            ],
            "text/html": [
              "\n",
              "  <div id=\"df-b9b5c060-8bd9-49a5-87ca-e6fe77bd049a\">\n",
              "    <div class=\"colab-df-container\">\n",
              "      <div>\n",
              "<style scoped>\n",
              "    .dataframe tbody tr th:only-of-type {\n",
              "        vertical-align: middle;\n",
              "    }\n",
              "\n",
              "    .dataframe tbody tr th {\n",
              "        vertical-align: top;\n",
              "    }\n",
              "\n",
              "    .dataframe thead th {\n",
              "        text-align: right;\n",
              "    }\n",
              "</style>\n",
              "<table border=\"1\" class=\"dataframe\">\n",
              "  <thead>\n",
              "    <tr style=\"text-align: right;\">\n",
              "      <th></th>\n",
              "      <th>SPX</th>\n",
              "      <th>GLD</th>\n",
              "      <th>USO</th>\n",
              "      <th>SLV</th>\n",
              "      <th>EUR/USD</th>\n",
              "    </tr>\n",
              "  </thead>\n",
              "  <tbody>\n",
              "    <tr>\n",
              "      <th>SPX</th>\n",
              "      <td>1.000000</td>\n",
              "      <td>0.049345</td>\n",
              "      <td>-0.591573</td>\n",
              "      <td>-0.274055</td>\n",
              "      <td>-0.672017</td>\n",
              "    </tr>\n",
              "    <tr>\n",
              "      <th>GLD</th>\n",
              "      <td>0.049345</td>\n",
              "      <td>1.000000</td>\n",
              "      <td>-0.186360</td>\n",
              "      <td>0.866632</td>\n",
              "      <td>-0.024375</td>\n",
              "    </tr>\n",
              "    <tr>\n",
              "      <th>USO</th>\n",
              "      <td>-0.591573</td>\n",
              "      <td>-0.186360</td>\n",
              "      <td>1.000000</td>\n",
              "      <td>0.167547</td>\n",
              "      <td>0.829317</td>\n",
              "    </tr>\n",
              "    <tr>\n",
              "      <th>SLV</th>\n",
              "      <td>-0.274055</td>\n",
              "      <td>0.866632</td>\n",
              "      <td>0.167547</td>\n",
              "      <td>1.000000</td>\n",
              "      <td>0.321631</td>\n",
              "    </tr>\n",
              "    <tr>\n",
              "      <th>EUR/USD</th>\n",
              "      <td>-0.672017</td>\n",
              "      <td>-0.024375</td>\n",
              "      <td>0.829317</td>\n",
              "      <td>0.321631</td>\n",
              "      <td>1.000000</td>\n",
              "    </tr>\n",
              "  </tbody>\n",
              "</table>\n",
              "</div>\n",
              "      <button class=\"colab-df-convert\" onclick=\"convertToInteractive('df-b9b5c060-8bd9-49a5-87ca-e6fe77bd049a')\"\n",
              "              title=\"Convert this dataframe to an interactive table.\"\n",
              "              style=\"display:none;\">\n",
              "        \n",
              "  <svg xmlns=\"http://www.w3.org/2000/svg\" height=\"24px\"viewBox=\"0 0 24 24\"\n",
              "       width=\"24px\">\n",
              "    <path d=\"M0 0h24v24H0V0z\" fill=\"none\"/>\n",
              "    <path d=\"M18.56 5.44l.94 2.06.94-2.06 2.06-.94-2.06-.94-.94-2.06-.94 2.06-2.06.94zm-11 1L8.5 8.5l.94-2.06 2.06-.94-2.06-.94L8.5 2.5l-.94 2.06-2.06.94zm10 10l.94 2.06.94-2.06 2.06-.94-2.06-.94-.94-2.06-.94 2.06-2.06.94z\"/><path d=\"M17.41 7.96l-1.37-1.37c-.4-.4-.92-.59-1.43-.59-.52 0-1.04.2-1.43.59L10.3 9.45l-7.72 7.72c-.78.78-.78 2.05 0 2.83L4 21.41c.39.39.9.59 1.41.59.51 0 1.02-.2 1.41-.59l7.78-7.78 2.81-2.81c.8-.78.8-2.07 0-2.86zM5.41 20L4 18.59l7.72-7.72 1.47 1.35L5.41 20z\"/>\n",
              "  </svg>\n",
              "      </button>\n",
              "      \n",
              "  <style>\n",
              "    .colab-df-container {\n",
              "      display:flex;\n",
              "      flex-wrap:wrap;\n",
              "      gap: 12px;\n",
              "    }\n",
              "\n",
              "    .colab-df-convert {\n",
              "      background-color: #E8F0FE;\n",
              "      border: none;\n",
              "      border-radius: 50%;\n",
              "      cursor: pointer;\n",
              "      display: none;\n",
              "      fill: #1967D2;\n",
              "      height: 32px;\n",
              "      padding: 0 0 0 0;\n",
              "      width: 32px;\n",
              "    }\n",
              "\n",
              "    .colab-df-convert:hover {\n",
              "      background-color: #E2EBFA;\n",
              "      box-shadow: 0px 1px 2px rgba(60, 64, 67, 0.3), 0px 1px 3px 1px rgba(60, 64, 67, 0.15);\n",
              "      fill: #174EA6;\n",
              "    }\n",
              "\n",
              "    [theme=dark] .colab-df-convert {\n",
              "      background-color: #3B4455;\n",
              "      fill: #D2E3FC;\n",
              "    }\n",
              "\n",
              "    [theme=dark] .colab-df-convert:hover {\n",
              "      background-color: #434B5C;\n",
              "      box-shadow: 0px 1px 3px 1px rgba(0, 0, 0, 0.15);\n",
              "      filter: drop-shadow(0px 1px 2px rgba(0, 0, 0, 0.3));\n",
              "      fill: #FFFFFF;\n",
              "    }\n",
              "  </style>\n",
              "\n",
              "      <script>\n",
              "        const buttonEl =\n",
              "          document.querySelector('#df-b9b5c060-8bd9-49a5-87ca-e6fe77bd049a button.colab-df-convert');\n",
              "        buttonEl.style.display =\n",
              "          google.colab.kernel.accessAllowed ? 'block' : 'none';\n",
              "\n",
              "        async function convertToInteractive(key) {\n",
              "          const element = document.querySelector('#df-b9b5c060-8bd9-49a5-87ca-e6fe77bd049a');\n",
              "          const dataTable =\n",
              "            await google.colab.kernel.invokeFunction('convertToInteractive',\n",
              "                                                     [key], {});\n",
              "          if (!dataTable) return;\n",
              "\n",
              "          const docLinkHtml = 'Like what you see? Visit the ' +\n",
              "            '<a target=\"_blank\" href=https://colab.research.google.com/notebooks/data_table.ipynb>data table notebook</a>'\n",
              "            + ' to learn more about interactive tables.';\n",
              "          element.innerHTML = '';\n",
              "          dataTable['output_type'] = 'display_data';\n",
              "          await google.colab.output.renderOutput(dataTable, element);\n",
              "          const docLink = document.createElement('div');\n",
              "          docLink.innerHTML = docLinkHtml;\n",
              "          element.appendChild(docLink);\n",
              "        }\n",
              "      </script>\n",
              "    </div>\n",
              "  </div>\n",
              "  "
            ]
          },
          "metadata": {},
          "execution_count": 25
        }
      ]
    },
    {
      "cell_type": "code",
      "source": [
        "# constructing a heatmap to understand the correlation\n",
        "plt.figure(figsize=(8,8))\n",
        "sns.heatmap(correlation, cbar=True, annot=True, fmt='.2f', square=True, cmap=sns.color_palette(\"Blues\",12))\n"
      ],
      "metadata": {
        "colab": {
          "base_uri": "https://localhost:8080/",
          "height": 488
        },
        "id": "ZTOsNYcdJ45s",
        "outputId": "cf34d86f-55dc-4e1d-edbf-9e67a75e9cfb"
      },
      "execution_count": 33,
      "outputs": [
        {
          "output_type": "execute_result",
          "data": {
            "text/plain": [
              "<Axes: >"
            ]
          },
          "metadata": {},
          "execution_count": 33
        },
        {
          "output_type": "display_data",
          "data": {
            "text/plain": [
              "<Figure size 576x576 with 2 Axes>"
            ],
            "image/png": "[encoded data removed]"
          },
          "metadata": {
            "needs_background": "light"
          }
        }
      ]
    },
    {
      "cell_type": "code",
      "source": [
        "# correlation vlaue of GLD\n",
        "print(correlation['GLD'])"
      ],
      "metadata": {
        "colab": {
          "base_uri": "https://localhost:8080/"
        },
        "id": "dt9faCMsSER9",
        "outputId": "3f4f3081-196e-4217-eb3b-fd4b54cc068d"
      },
      "execution_count": 34,
      "outputs": [
        {
          "output_type": "stream",
          "name": "stdout",
          "text": [
            "SPX        0.049345\n",
            "GLD        1.000000\n",
            "USO       -0.186360\n",
            "SLV        0.866632\n",
            "EUR/USD   -0.024375\n",
            "Name: GLD, dtype: float64\n"
          ]
        }
      ]
    },
    {
      "cell_type": "code",
      "source": [
        "# check the distribution of gold price \n",
        "sns.distplot(df['GLD'], color='green')"
      ],
      "metadata": {
        "colab": {
          "base_uri": "https://localhost:8080/",
          "height": 502
        },
        "id": "IKoCKfHQTst9",
        "outputId": "9345e434-0eeb-4a62-d4a2-3ee9b61d218f"
      },
      "execution_count": 35,
      "outputs": [
        {
          "output_type": "stream",
          "name": "stderr",
          "text": [
            "<ipython-input-35-d7a8b74bf340>:2: UserWarning: \n",
            "\n",
            "`distplot` is a deprecated function and will be removed in seaborn v0.14.0.\n",
            "\n",
            "Please adapt your code to use either `displot` (a figure-level function with\n",
            "similar flexibility) or `histplot` (an axes-level function for histograms).\n",
            "\n",
            "For a guide to updating your code to use the new functions, please see\n",
            "https://gist.github.com/mwaskom/de44147ed2974457ad6372750bbe5751\n",
            "\n",
            "  sns.distplot(df['GLD'], color='green')\n"
          ]
        },
        {
          "output_type": "execute_result",
          "data": {
            "text/plain": [
              "<Axes: xlabel='GLD', ylabel='Density'>"
            ]
          },
          "metadata": {},
          "execution_count": 35
        },
        {
          "output_type": "display_data",
          "data": {
            "text/plain": [
              "<Figure size 432x288 with 1 Axes>"
            ],
            "image/png": "[encoded data removed]"
          },
          "metadata": {
            "needs_background": "light"
          }
        }
      ]
    },
    {
      "cell_type": "markdown",
      "source": [
        "## Spliting the Feature and the Target"
      ],
      "metadata": {
        "id": "dhSOwDfaUabf"
      }
    },
    {
      "cell_type": "code",
      "source": [
        "df.columns"
      ],
      "metadata": {
        "colab": {
          "base_uri": "https://localhost:8080/"
        },
        "id": "W5MejOD9UyuZ",
        "outputId": "57406af3-4cb9-4777-d597-0aab12cbc722"
      },
      "execution_count": 36,
      "outputs": [
        {
          "output_type": "execute_result",
          "data": {
            "text/plain": [
              "Index(['Date', 'SPX', 'GLD', 'USO', 'SLV', 'EUR/USD'], dtype='object')"
            ]
          },
          "metadata": {},
          "execution_count": 36
        }
      ]
    },
    {
      "cell_type": "code",
      "source": [
        "X = df.drop(['GLD', 'Date'], axis=1)\n",
        "y = df['GLD']"
      ],
      "metadata": {
        "id": "JA2qS--sT_kM"
      },
      "execution_count": 37,
      "outputs": []
    },
    {
      "cell_type": "code",
      "source": [
        "print(X)"
      ],
      "metadata": {
        "colab": {
          "base_uri": "https://localhost:8080/"
        },
        "id": "22K9YOrBVF9W",
        "outputId": "2fe15a1e-b7d2-4c08-9a41-42f2882dd71f"
      },
      "execution_count": 38,
      "outputs": [
        {
          "output_type": "stream",
          "name": "stdout",
          "text": [
            "              SPX        USO      SLV   EUR/USD\n",
            "0     1447.160034  78.470001  15.1800  1.471692\n",
            "1     1447.160034  78.370003  15.2850  1.474491\n",
            "2     1411.630005  77.309998  15.1670  1.475492\n",
            "3     1416.180054  75.500000  15.0530  1.468299\n",
            "4     1390.189941  76.059998  15.5900  1.557099\n",
            "...           ...        ...      ...       ...\n",
            "2285  2671.919922  14.060000  15.5100  1.186789\n",
            "2286  2697.790039  14.370000  15.5300  1.184722\n",
            "2287  2723.070068  14.410000  15.7400  1.191753\n",
            "2288  2730.129883  14.380000  15.5600  1.193118\n",
            "2289  2725.780029  14.405800  15.4542  1.182033\n",
            "\n",
            "[2290 rows x 4 columns]\n"
          ]
        }
      ]
    },
    {
      "cell_type": "code",
      "source": [
        "print(y)"
      ],
      "metadata": {
        "colab": {
          "base_uri": "https://localhost:8080/"
        },
        "id": "Hl30TErBVJxG",
        "outputId": "79caa65e-ac9a-46a5-ea7e-00cdb2e0e6ab"
      },
      "execution_count": 39,
      "outputs": [
        {
          "output_type": "stream",
          "name": "stdout",
          "text": [
            "0        84.860001\n",
            "1        85.570000\n",
            "2        85.129997\n",
            "3        84.769997\n",
            "4        86.779999\n",
            "           ...    \n",
            "2285    124.589996\n",
            "2286    124.330002\n",
            "2287    125.180000\n",
            "2288    124.489998\n",
            "2289    122.543800\n",
            "Name: GLD, Length: 2290, dtype: float64\n"
          ]
        }
      ]
    },
    {
      "cell_type": "markdown",
      "source": [
        "### spliting into training and test data"
      ],
      "metadata": {
        "id": "9raGjl1lVl7S"
      }
    },
    {
      "cell_type": "code",
      "source": [
        "from sklearn.model_selection import train_test_split\n",
        "X_train, X_test, y_train, y_test = train_test_split(X, y, test_size=0.2, random_state=42)"
      ],
      "metadata": {
        "id": "P6Xv_ClxVMY6"
      },
      "execution_count": 40,
      "outputs": []
    },
    {
      "cell_type": "code",
      "source": [
        "print(X_train)"
      ],
      "metadata": {
        "colab": {
          "base_uri": "https://localhost:8080/"
        },
        "id": "qotngJDYV0Ji",
        "outputId": "2b2e15f7-99c2-4bd1-f692-749d27b78494"
      },
      "execution_count": 41,
      "outputs": [
        {
          "output_type": "stream",
          "name": "stdout",
          "text": [
            "              SPX         USO        SLV   EUR/USD\n",
            "1018  1413.489990   36.220001  28.920000  1.253447\n",
            "1870  2085.449951   11.740000  16.420000  1.132824\n",
            "118   1245.359985  109.250000  18.545000  1.585590\n",
            "220    805.219971   28.660000  11.090000  1.288494\n",
            "2053  2328.949951   11.130000  17.530001  1.061639\n",
            "...           ...         ...        ...       ...\n",
            "1638  2095.840088   19.660000  15.480000  1.120787\n",
            "1095  1426.189941   33.369999  29.370001  1.322769\n",
            "1130  1502.420044   33.430000  27.730000  1.327316\n",
            "1294  1807.229980   33.189999  18.959999  1.356779\n",
            "860   1261.010010   38.810001  31.610001  1.341202\n",
            "\n",
            "[1832 rows x 4 columns]\n"
          ]
        }
      ]
    },
    {
      "cell_type": "markdown",
      "source": [
        "## Model training Random Forest Regressor"
      ],
      "metadata": {
        "id": "2nGjOK5MWNW1"
      }
    },
    {
      "cell_type": "code",
      "source": [
        "from sklearn.ensemble import RandomForestRegressor\n",
        "regrssor = RandomForestRegressor(n_estimators=100)"
      ],
      "metadata": {
        "id": "ABMMwKMXV3fq"
      },
      "execution_count": 51,
      "outputs": []
    },
    {
      "cell_type": "code",
      "source": [
        "regrssor.fit(X_train,y_train)"
      ],
      "metadata": {
        "colab": {
          "base_uri": "https://localhost:8080/",
          "height": 74
        },
        "id": "EFqkCVq8Za0T",
        "outputId": "a2473a97-8fef-4208-fab4-919bcd79c47c"
      },
      "execution_count": 53,
      "outputs": [
        {
          "output_type": "execute_result",
          "data": {
            "text/plain": [
              "RandomForestRegressor()"
            ],
            "text/html": [
              "<style>#sk-container-id-2 {color: black;background-color: white;}#sk-container-id-2 pre{padding: 0;}#sk-container-id-2 div.sk-toggleable {background-color: white;}#sk-container-id-2 label.sk-toggleable__label {cursor: pointer;display: block;width: 100%;margin-bottom: 0;padding: 0.3em;box-sizing: border-box;text-align: center;}#sk-container-id-2 label.sk-toggleable__label-arrow:before {content: \"▸\";float: left;margin-right: 0.25em;color: #696969;}#sk-container-id-2 label.sk-toggleable__label-arrow:hover:before {color: black;}#sk-container-id-2 div.sk-estimator:hover label.sk-toggleable__label-arrow:before {color: black;}#sk-container-id-2 div.sk-toggleable__content {max-height: 0;max-width: 0;overflow: hidden;text-align: left;background-color: #f0f8ff;}#sk-container-id-2 div.sk-toggleable__content pre {margin: 0.2em;color: black;border-radius: 0.25em;background-color: #f0f8ff;}#sk-container-id-2 input.sk-toggleable__control:checked~div.sk-toggleable__content {max-height: 200px;max-width: 100%;overflow: auto;}#sk-container-id-2 input.sk-toggleable__control:checked~label.sk-toggleable__label-arrow:before {content: \"▾\";}#sk-container-id-2 div.sk-estimator input.sk-toggleable__control:checked~label.sk-toggleable__label {background-color: #d4ebff;}#sk-container-id-2 div.sk-label input.sk-toggleable__control:checked~label.sk-toggleable__label {background-color: #d4ebff;}#sk-container-id-2 input.sk-hidden--visually {border: 0;clip: rect(1px 1px 1px 1px);clip: rect(1px, 1px, 1px, 1px);height: 1px;margin: -1px;overflow: hidden;padding: 0;position: absolute;width: 1px;}#sk-container-id-2 div.sk-estimator {font-family: monospace;background-color: #f0f8ff;border: 1px dotted black;border-radius: 0.25em;box-sizing: border-box;margin-bottom: 0.5em;}#sk-container-id-2 div.sk-estimator:hover {background-color: #d4ebff;}#sk-container-id-2 div.sk-parallel-item::after {content: \"\";width: 100%;border-bottom: 1px solid gray;flex-grow: 1;}#sk-container-id-2 div.sk-label:hover label.sk-toggleable__label {background-color: #d4ebff;}#sk-container-id-2 div.sk-serial::before {content: \"\";position: absolute;border-left: 1px solid gray;box-sizing: border-box;top: 0;bottom: 0;left: 50%;z-index: 0;}#sk-container-id-2 div.sk-serial {display: flex;flex-direction: column;align-items: center;background-color: white;padding-right: 0.2em;padding-left: 0.2em;position: relative;}#sk-container-id-2 div.sk-item {position: relative;z-index: 1;}#sk-container-id-2 div.sk-parallel {display: flex;align-items: stretch;justify-content: center;background-color: white;position: relative;}#sk-container-id-2 div.sk-item::before, #sk-container-id-2 div.sk-parallel-item::before {content: \"\";position: absolute;border-left: 1px solid gray;box-sizing: border-box;top: 0;bottom: 0;left: 50%;z-index: -1;}#sk-container-id-2 div.sk-parallel-item {display: flex;flex-direction: column;z-index: 1;position: relative;background-color: white;}#sk-container-id-2 div.sk-parallel-item:first-child::after {align-self: flex-end;width: 50%;}#sk-container-id-2 div.sk-parallel-item:last-child::after {align-self: flex-start;width: 50%;}#sk-container-id-2 div.sk-parallel-item:only-child::after {width: 0;}#sk-container-id-2 div.sk-dashed-wrapped {border: 1px dashed gray;margin: 0 0.4em 0.5em 0.4em;box-sizing: border-box;padding-bottom: 0.4em;background-color: white;}#sk-container-id-2 div.sk-label label {font-family: monospace;font-weight: bold;display: inline-block;line-height: 1.2em;}#sk-container-id-2 div.sk-label-container {text-align: center;}#sk-container-id-2 div.sk-container {/* jupyter's `normalize.less` sets `[hidden] { display: none; }` but bootstrap.min.css set `[hidden] { display: none !important; }` so we also need the `!important` here to be able to override the default hidden behavior on the sphinx rendered scikit-learn.org. See: https://github.com/scikit-learn/scikit-learn/issues/21755 */display: inline-block !important;position: relative;}#sk-container-id-2 div.sk-text-repr-fallback {display: none;}</style><div id=\"sk-container-id-2\" class=\"sk-top-container\"><div class=\"sk-text-repr-fallback\"><pre>RandomForestRegressor()</pre><b>In a Jupyter environment, please rerun this cell to show the HTML representation or trust the notebook. <br />On GitHub, the HTML representation is unable to render, please try loading this page with nbviewer.org.</b></div><div class=\"sk-container\" hidden><div class=\"sk-item\"><div class=\"sk-estimator sk-toggleable\"><input class=\"sk-toggleable__control sk-hidden--visually\" id=\"sk-estimator-id-2\" type=\"checkbox\" checked><label for=\"sk-estimator-id-2\" class=\"sk-toggleable__label sk-toggleable__label-arrow\">RandomForestRegressor</label><div class=\"sk-toggleable__content\"><pre>RandomForestRegressor()</pre></div></div></div></div></div>"
            ]
          },
          "metadata": {},
          "execution_count": 53
        }
      ]
    },
    {
      "cell_type": "markdown",
      "source": [
        "## Model Evalution"
      ],
      "metadata": {
        "id": "WJQfJRFnZyWY"
      }
    },
    {
      "cell_type": "code",
      "source": [
        "# Prediction on Test Data\n",
        "y_hat = regrssor.predict(X_test)"
      ],
      "metadata": {
        "id": "BS89I_cpZZ0g"
      },
      "execution_count": 54,
      "outputs": []
    },
    {
      "cell_type": "code",
      "source": [
        "print(y_hat)"
      ],
      "metadata": {
        "colab": {
          "base_uri": "https://localhost:8080/"
        },
        "id": "8N0p492ZaAgC",
        "outputId": "8ff0d30b-34e4-4854-d369-e53efabeb70d"
      },
      "execution_count": 55,
      "outputs": [
        {
          "output_type": "stream",
          "name": "stdout",
          "text": [
            "[122.49679955 130.39190287 127.7120001   96.63939738 119.04880053\n",
            " 114.39349911 124.80430113 117.77539939 108.06560085  98.21229922\n",
            "  95.5216992  167.22849856 149.73370101 116.07270064 170.94450045\n",
            "  84.96109993 123.25679862 109.04909695 113.15280068 131.47070338\n",
            " 124.29709904 113.57530075 115.83270049 108.77519985 108.66900148\n",
            " 125.80949906 119.15169979 112.19819944 113.36720168 125.46259901\n",
            " 145.97330161  89.61600049 168.28300005 113.82049915 108.54250068\n",
            " 119.91810125 141.22899829 161.1994006  173.84059791 153.13410134\n",
            " 119.15030106 113.42030035 121.42339932 113.70899935 122.03159974\n",
            " 107.81850064  88.50659882 114.15039924 130.01520282 118.08600101\n",
            " 104.69949971 130.06180264 107.18949829 160.80150335 131.57850054\n",
            " 118.09339994 147.4099     137.86530137  95.59950114 124.54550123\n",
            " 114.48739918  86.1790007  104.32109949 113.91180073  84.21709931\n",
            " 122.32920014 116.53489902 113.41210191 165.30840312  92.19720042\n",
            "  80.50550069 160.95900047 158.55500179 106.69259999 148.50830072\n",
            " 109.81989726 123.26070029 128.5657     113.23479921 120.0283005\n",
            " 136.16369697 107.55310091  93.80750102  92.70409883 111.37160066\n",
            " 118.42430001 108.66669957 112.31699981 167.89919895 160.99829801\n",
            " 107.61119869 125.39160016 108.21840004 115.01990189 126.94879782\n",
            " 108.42509929 162.78380318  84.19599854 131.31420359 114.25890039\n",
            " 155.53370048 110.24019812 113.99719992 107.79059991 138.64010101\n",
            "  88.32979952  92.50069913 174.76760083 118.95200042 118.6311002\n",
            " 121.30260031 171.34639809 131.67720044 119.89690054 158.74100242\n",
            " 118.90269824 119.32939996 110.99439956 119.58889927 122.19669998\n",
            " 128.90909941 114.8191002   89.53959966 114.37790112 131.55249906\n",
            " 115.33420118 124.86880024  90.88210029 106.86450037 117.18860142\n",
            " 109.74449856 166.40230188  80.63080043 121.82113682  73.10640156\n",
            " 111.32219928 100.78050109 124.27400011  75.99959993 125.30159957\n",
            " 119.59620059 105.27960002  90.82259888 132.29280027 139.07940154\n",
            " 175.60779967 126.71769932 126.91599892 123.21339984  92.15059859\n",
            " 150.18230113 102.94609916 117.45390013 134.98639962 135.59019962\n",
            " 117.93610077 117.27320181 102.13329802 124.04829834  89.72339997\n",
            " 108.18749891 117.61860038 167.78920028 117.41860038 117.8951994\n",
            " 155.92860125 111.05660027  87.28229896 116.51770147 124.20849959\n",
            " 120.59100223 118.39570045  96.51999843 109.33589938 114.94169907\n",
            " 127.48260067 156.19960118 107.85410066 124.08859891 139.1083021\n",
            "  90.92770015 118.27610124 130.65780086 114.02029918 108.50629943\n",
            " 119.12800017 127.87110076 126.15860011 145.10490144 112.71340096\n",
            "  93.70479993 115.05219988 125.48040107 120.55150155 122.36330079\n",
            "  92.63410093 121.52159873  93.25890012 119.09110032 124.45250016\n",
            " 121.9398998  131.43760056 124.31959946 114.93250184 127.4552003\n",
            " 113.31350109 165.2633997  122.40619775 119.6297022  113.72280005\n",
            " 120.02580015 120.1925995  105.74940109 116.82570085 125.76179889\n",
            " 172.01829761  85.82680031 134.59389887 127.72329901  74.05480048\n",
            " 119.23309965  89.12459958 163.49030271  92.10299965 158.81360164\n",
            " 102.41039835 103.19329956 102.67979894 118.6346992  165.33110069\n",
            " 120.23170129 135.75139874  96.53899836 112.92649916 132.26820123\n",
            " 145.87750097 125.8358001  101.56079986 125.38440064 160.29630102\n",
            " 119.92890129 126.46950068 127.58700099 115.44329941 156.78140196\n",
            " 128.96800026 114.30319957 176.73869887 119.82830194 119.28130089\n",
            " 102.78599884 160.97929955 114.64510101 118.45449957 125.29339938\n",
            " 116.865701   114.53579922  90.83199968 101.35269959 132.06990089\n",
            " 118.94850211 169.323298   108.25300067  86.44690069  91.70809939\n",
            " 156.25519963 160.01529958 152.99469932  72.82649964 120.84949975\n",
            " 117.47540042 157.52319963 135.39079931 111.75889983 114.09909989\n",
            " 160.94100268 125.30050012 119.50650105 117.61479984 157.76040172\n",
            " 104.04900003  89.57699927  83.27359911  90.11329922 115.47219971\n",
            " 113.69079975 119.60770107 119.57990092  78.91919998  90.62530063\n",
            " 153.59570321 119.43220051 132.0122002  126.75930109 113.81050098\n",
            "  82.23810074 118.0294989   89.84820033 117.67229945 163.1169027\n",
            " 121.31800072 110.52840022 125.33369858 114.31789993 135.72470008\n",
            "  80.22790078 163.97079998 132.52030164 164.0956003  127.62159956\n",
            "  91.50739904 108.41649888 114.34409953 127.60780111 119.33440126\n",
            "  92.47619933 132.24799919 162.64240028  72.04810152 112.68590027\n",
            " 108.98599942 113.62279807 120.36540075 111.86859974 120.65150002\n",
            " 118.52200191 126.25260093 125.79080133 109.48010017 168.12720022\n",
            " 167.37179941 112.31579943 169.75869713 112.07299999 161.77450191\n",
            " 127.53389835 167.4621993  135.25720168 109.29119885 167.39879914\n",
            " 116.72590146  72.88900128 113.51270011  93.43110001  87.75870039\n",
            " 104.17849916 126.0191007  123.66569759 169.63969812 121.64550073\n",
            "  87.23169848 131.56599845 121.7815004  107.44129951 168.73449986\n",
            " 126.12879769 127.1930016  113.52130065 134.74150076 125.10280103\n",
            " 144.56649911 123.13629928 118.74019987 120.72229984 166.86279994\n",
            "  71.49440062 163.22199902 166.87929864 118.87480061 103.56369822\n",
            " 128.03689918 154.47919969 172.03630063 135.10419758 126.93489935\n",
            " 125.23710066 153.41539788  87.88499983 130.850402   111.15130078\n",
            " 164.98080011 156.5954991  167.61710025 121.63959997  90.05140028\n",
            " 132.27960185  99.7459998  127.47249857 127.8880981  108.73059903\n",
            "  90.86769905 153.17690124  95.21889858  87.7744995  125.07219987\n",
            "  87.26079806  94.67890111 113.59229978 156.31680304 148.11070084\n",
            " 105.06140027 166.53449701 111.24100033 128.39330036  90.61099939\n",
            " 109.40849943  76.80810106 110.67649988 164.14559931 155.63019875\n",
            " 152.59580091 161.87049979  92.24409862 118.03070171  93.92080123\n",
            " 129.8771009  117.61240029 117.2423004  124.30280052 120.77630006\n",
            "  97.83379929 168.13060079 147.19950175 124.50129875 169.34749803\n",
            "  84.17210001 166.79739754 130.58730265 119.9127019   88.45729975\n",
            " 120.05749856  83.8171992  118.6282013  113.86089903 116.68939921\n",
            " 155.12099771 134.57960343 118.21750104 118.78539857 123.24639859\n",
            " 115.68570104 118.52910016 122.22470046 146.97670029 150.28500016\n",
            " 168.59860006  98.07739918 160.30140045  93.49690032 142.70189948\n",
            " 121.41510101  83.92129908 106.60959993 123.71679977 169.59449655\n",
            "  93.69569869  96.51440074 153.07529974]\n"
          ]
        }
      ]
    },
    {
      "cell_type": "code",
      "source": [
        "# R Squred error\n",
        "from sklearn.metrics import r2_score\n",
        "error_score = r2_score(y_test,y_hat)\n",
        "print(f'The R squared error is {error_score}')"
      ],
      "metadata": {
        "colab": {
          "base_uri": "https://localhost:8080/"
        },
        "id": "xHh4BK0uaDNs",
        "outputId": "6a93b90b-2b1b-4193-8165-29ea99c9b7c8"
      },
      "execution_count": 56,
      "outputs": [
        {
          "output_type": "stream",
          "name": "stdout",
          "text": [
            "The R squared error is 0.9895630147459322\n"
          ]
        }
      ]
    },
    {
      "cell_type": "markdown",
      "source": [
        "## Compare the actual values and predicted values in a plot"
      ],
      "metadata": {
        "id": "5JZxU-TBbD1h"
      }
    },
    {
      "cell_type": "code",
      "source": [
        "y_test = list(y_test)\n",
        "print(y_test)"
      ],
      "metadata": {
        "colab": {
          "base_uri": "https://localhost:8080/"
        },
        "id": "TQ81l0zcazVz",
        "outputId": "67e5ca91-6eb0-485f-cb19-57db22581774"
      },
      "execution_count": 57,
      "outputs": [
        {
          "output_type": "stream",
          "name": "stdout",
          "text": [
            "[122.32, 129.899994, 126.980003, 96.5, 117.580002, 115.0, 125.440002, 116.93, 108.220001, 98.830002, 96.910004, 168.789993, 151.029999, 115.839996, 169.809998, 85.129997, 122.639999, 107.849998, 110.449997, 131.240005, 124.940002, 115.379997, 116.650002, 109.25, 110.529999, 125.720001, 123.709999, 114.949997, 114.290001, 126.860001, 146.869995, 89.440002, 167.270004, 115.050003, 117.110001, 120.620003, 141.630005, 160.649994, 173.309998, 152.300003, 117.459999, 113.150002, 121.309998, 113.470001, 121.349998, 107.519997, 88.839996, 114.440002, 130.559998, 117.739998, 99.669998, 129.770004, 106.169998, 161.070007, 127.93, 115.940002, 143.470001, 130.110001, 95.730003, 124.360001, 116.620003, 85.599998, 104.099998, 112.610001, 86.519997, 122.400002, 116.470001, 112.660004, 166.399994, 91.989998, 80.809998, 160.559998, 157.639999, 103.419998, 135.020004, 110.400002, 124.43, 127.739998, 112.440002, 119.910004, 137.809998, 105.720001, 93.559998, 92.730003, 111.510002, 119.580002, 109.980003, 111.970001, 166.380005, 161.539993, 106.480003, 124.779999, 106.129997, 115.849998, 125.720001, 107.75, 162.009995, 78.389999, 129.520004, 115.639999, 145.729996, 109.790001, 112.290001, 107.339996, 136.179993, 86.449997, 92.059998, 178.539993, 118.93, 120.559998, 121.559998, 172.410004, 130.100006, 119.330002, 159.619995, 118.989998, 118.32, 110.239998, 119.190002, 122.07, 129.649994, 114.099998, 88.139999, 114.769997, 131.660004, 114.470001, 124.150002, 89.540001, 106.220001, 117.220001, 108.599998, 165.880005, 80.389999, 122.230003, 72.510002, 109.139999, 104.040001, 122.879997, 76.949997, 128.119995, 121.269997, 110.949997, 92.629997, 129.869995, 135.320007, 172.360001, 128.470001, 127.480003, 124.910004, 92.559998, 151.589996, 103.559998, 117.919998, 133.110001, 135.520004, 119.650002, 117.300003, 102.550003, 124.400002, 90.040001, 108.279999, 118.470001, 161.490005, 116.25, 116.120003, 157.460007, 111.43, 87.379997, 116.980003, 124.690002, 121.199997, 120.730003, 99.169998, 107.949997, 114.43, 126.449997, 156.479996, 107.839996, 124.230003, 139.410004, 91.110001, 117.870003, 127.400002, 114.870003, 109.43, 119.169998, 127.269997, 124.279999, 148.589996, 111.860001, 94.599998, 113.639999, 124.82, 120.870003, 122.669998, 93.129997, 119.940002, 93.269997, 121.489998, 123.919998, 122.129997, 132.130005, 123.760002, 115.059998, 127.970001, 112.220001, 164.860001, 122.900002, 120.099998, 112.75, 119.550003, 122.290001, 107.040001, 116.550003, 125.779999, 172.100006, 85.199997, 134.179993, 127.059998, 73.580002, 118.970001, 89.220001, 162.070007, 92.660004, 160.5, 102.279999, 102.040001, 103.110001, 118.080002, 166.070007, 120.360001, 136.5, 97.010002, 114.309998, 132.490005, 146.5, 126.300003, 101.760002, 124.720001, 157.210007, 122.379997, 127.279999, 128.070007, 116.330002, 157.320007, 130.270004, 113.970001, 179.100006, 119.699997, 121.050003, 102.940002, 160.520004, 115.050003, 118.519997, 126.089996, 116.5, 115.470001, 91.150002, 98.360001, 131.699997, 118.940002, 172.070007, 107.470001, 85.809998, 92.389999, 156.460007, 136.240005, 152.990005, 71.099998, 121.68, 118.190002, 159.050003, 135.229996, 111.419998, 111.830002, 159.429993, 124.529999, 120.839996, 114.82, 161.220001, 104.400002, 89.18, 78.860001, 89.849998, 115.68, 114.32, 120.760002, 119.610001, 76.199997, 88.25, 153.029999, 119.779999, 132.009995, 128.460007, 113.75, 80.93, 117.209999, 89.589996, 117.959999, 163.229996, 122.489998, 110.760002, 125.580002, 114.629997, 138.369995, 80.870003, 163.210007, 135.589996, 162.300003, 127.580002, 92.25, 111.019997, 115.269997, 129.289993, 119.699997, 92.269997, 133.690002, 161.419998, 72.650002, 117.769997, 107.370003, 115.110001, 121.800003, 111.540001, 122.419998, 118.230003, 126.419998, 126.339996, 111.589996, 166.419998, 168.610001, 110.889999, 168.710007, 112.849998, 161.839996, 128.380005, 167.119995, 137.660004, 109.800003, 167.869995, 115.889999, 72.050003, 113.779999, 95.120003, 88.800003, 104.389999, 125.32, 124.32, 170.850006, 120.860001, 86.309998, 131.029999, 122.699997, 107.309998, 172.229996, 125.620003, 127.779999, 114.720001, 137.779999, 125.459999, 142.380005, 121.290001, 117.519997, 121.650002, 168.350006, 72.18, 161.589996, 164.289993, 117.540001, 104.209999, 130.289993, 151.330002, 171.470001, 134.699997, 128.830002, 127.860001, 148.970001, 88.470001, 130.369995, 110.470001, 163.5, 157.929993, 168.179993, 122.709999, 90.709999, 134.070007, 99.82, 127.699997, 124.269997, 108.470001, 90.959999, 152.380005, 95.449997, 87.019997, 125.540001, 86.889999, 93.190002, 113.260002, 157.429993, 145.649994, 104.720001, 167.919998, 111.980003, 128.559998, 91.730003, 108.860001, 80.379997, 110.809998, 164.309998, 156.5, 149.740005, 162.559998, 92.290001, 118.769997, 92.790001, 130.619995, 117.339996, 116.790001, 123.32, 120.650002, 98.339996, 173.360001, 145.369995, 125.809998, 169.059998, 82.709999, 167.289993, 129.339996, 119.82, 87.68, 118.300003, 82.75, 118.459999, 118.489998, 115.620003, 155.229996, 133.139999, 118.150002, 119.800003, 122.419998, 113.830002, 118.18, 122.209999, 139.110001, 173.529999, 170.770004, 97.080002, 159.309998, 92.339996, 135.419998, 121.940002, 84.480003, 107.110001, 126.68, 167.179993, 93.849998, 96.230003, 154.339996]\n"
          ]
        }
      ]
    },
    {
      "cell_type": "code",
      "source": [
        "plt.plot(y_hat, color='yellow', label='Predicted Value')\n",
        "plt.plot(y_test, color='blue', label='Actual Value')\n",
        "plt.title('Actual price vs The Predicted price')\n",
        "plt.xlabel('Number of values')\n",
        "plt.ylabel('Gold price')\n",
        "plt.legend()\n",
        "plt.show()"
      ],
      "metadata": {
        "colab": {
          "base_uri": "https://localhost:8080/",
          "height": 295
        },
        "id": "sog4H9pHbzyL",
        "outputId": "89901cf9-91d9-4466-9dfa-3b26bba39283"
      },
      "execution_count": 59,
      "outputs": [
        {
          "output_type": "display_data",
          "data": {
            "text/plain": [
              "<Figure size 432x288 with 1 Axes>"
            ],
            "image/png": "[encoded data removed]"
          },
          "metadata": {
            "needs_background": "light"
          }
        }
      ]
    }
  ]
}