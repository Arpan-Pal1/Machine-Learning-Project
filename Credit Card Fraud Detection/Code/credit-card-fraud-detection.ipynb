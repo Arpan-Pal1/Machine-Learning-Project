{
 "cells": [
  {
   "cell_type": "code",
   "execution_count": 1,
   "id": "d260bd92",
   "metadata": {
    "_cell_guid": "b1076dfc-b9ad-4769-8c92-a6c4dae69d19",
    "_uuid": "8f2839f25d086af736a60e9eeb907d3b93b6e0e5",
    "execution": {
     "iopub.execute_input": "2023-03-17T15:21:11.240496Z",
     "iopub.status.busy": "2023-03-17T15:21:11.240075Z",
     "iopub.status.idle": "2023-03-17T15:21:11.258313Z",
     "shell.execute_reply": "2023-03-17T15:21:11.256734Z"
    },
    "papermill": {
     "duration": 0.029758,
     "end_time": "2023-03-17T15:21:11.261679",
     "exception": false,
     "start_time": "2023-03-17T15:21:11.231921",
     "status": "completed"
    },
    "tags": []
   },
   "outputs": [
    {
     "name": "stdout",
     "output_type": "stream",
     "text": [
      "/kaggle/input/creditcardfraud/creditcard.csv\n"
     ]
    }
   ],
   "source": [
    "# This Python 3 environment comes with many helpful analytics libraries installed\n",
    "# It is defined by the kaggle/python Docker image: https://github.com/kaggle/docker-python\n",
    "# For example, here's several helpful packages to load\n",
    "\n",
    "import numpy as np # linear algebra\n",
    "import pandas as pd # data processing, CSV file I/O (e.g. pd.read_csv)\n",
    "\n",
    "# Input data files are available in the read-only \"../input/\" directory\n",
    "# For example, running this (by clicking run or pressing Shift+Enter) will list all files under the input directory\n",
    "\n",
    "import os\n",
    "for dirname, _, filenames in os.walk('/kaggle/input'):\n",
    "    for filename in filenames:\n",
    "        print(os.path.join(dirname, filename))\n",
    "\n",
    "# You can write up to 20GB to the current directory (/kaggle/working/) that gets preserved as output when you create a version using \"Save & Run All\" \n",
    "# You can also write temporary files to /kaggle/temp/, but they won't be saved outside of the current session"
   ]
  },
  {
   "cell_type": "markdown",
   "id": "cd841fe1",
   "metadata": {
    "papermill": {
     "duration": 0.004942,
     "end_time": "2023-03-17T15:21:11.272422",
     "exception": false,
     "start_time": "2023-03-17T15:21:11.267480",
     "status": "completed"
    },
    "tags": []
   },
   "source": [
    "# Credit Card Fraud Detection "
   ]
  },
  {
   "cell_type": "markdown",
   "id": "0a343787",
   "metadata": {
    "papermill": {
     "duration": 0.004818,
     "end_time": "2023-03-17T15:21:11.282400",
     "exception": false,
     "start_time": "2023-03-17T15:21:11.277582",
     "status": "completed"
    },
    "tags": []
   },
   "source": [
    "## Importing all the Libraries"
   ]
  },
  {
   "cell_type": "code",
   "execution_count": 2,
   "id": "c362e473",
   "metadata": {
    "execution": {
     "iopub.execute_input": "2023-03-17T15:21:11.294454Z",
     "iopub.status.busy": "2023-03-17T15:21:11.294107Z",
     "iopub.status.idle": "2023-03-17T15:21:11.298916Z",
     "shell.execute_reply": "2023-03-17T15:21:11.297626Z"
    },
    "papermill": {
     "duration": 0.013138,
     "end_time": "2023-03-17T15:21:11.300695",
     "exception": false,
     "start_time": "2023-03-17T15:21:11.287557",
     "status": "completed"
    },
    "tags": []
   },
   "outputs": [],
   "source": [
    "import pandas as pd\n",
    "import numpy as np\n",
    "import matplotlib.pyplot as plt"
   ]
  },
  {
   "cell_type": "markdown",
   "id": "8f2578db",
   "metadata": {
    "papermill": {
     "duration": 0.004785,
     "end_time": "2023-03-17T15:21:11.310695",
     "exception": false,
     "start_time": "2023-03-17T15:21:11.305910",
     "status": "completed"
    },
    "tags": []
   },
   "source": [
    "# Data Analysis"
   ]
  },
  {
   "cell_type": "markdown",
   "id": "5550cda7",
   "metadata": {
    "papermill": {
     "duration": 0.004744,
     "end_time": "2023-03-17T15:21:11.320524",
     "exception": false,
     "start_time": "2023-03-17T15:21:11.315780",
     "status": "completed"
    },
    "tags": []
   },
   "source": [
    "## Importing the dataset "
   ]
  },
  {
   "cell_type": "code",
   "execution_count": 3,
   "id": "8f6d4be8",
   "metadata": {
    "execution": {
     "iopub.execute_input": "2023-03-17T15:21:11.336027Z",
     "iopub.status.busy": "2023-03-17T15:21:11.335314Z",
     "iopub.status.idle": "2023-03-17T15:21:15.364871Z",
     "shell.execute_reply": "2023-03-17T15:21:15.363612Z"
    },
    "papermill": {
     "duration": 4.041734,
     "end_time": "2023-03-17T15:21:15.367761",
     "exception": false,
     "start_time": "2023-03-17T15:21:11.326027",
     "status": "completed"
    },
    "tags": []
   },
   "outputs": [],
   "source": [
    "dataset = pd.read_csv('/kaggle/input/creditcardfraud/creditcard.csv')"
   ]
  },
  {
   "cell_type": "code",
   "execution_count": 4,
   "id": "0a2541c2",
   "metadata": {
    "execution": {
     "iopub.execute_input": "2023-03-17T15:21:15.381919Z",
     "iopub.status.busy": "2023-03-17T15:21:15.381482Z",
     "iopub.status.idle": "2023-03-17T15:21:15.424909Z",
     "shell.execute_reply": "2023-03-17T15:21:15.423313Z"
    },
    "papermill": {
     "duration": 0.053328,
     "end_time": "2023-03-17T15:21:15.427279",
     "exception": false,
     "start_time": "2023-03-17T15:21:15.373951",
     "status": "completed"
    },
    "tags": []
   },
   "outputs": [
    {
     "data": {
      "text/html": [
       "<div>\n",
       "<style scoped>\n",
       "    .dataframe tbody tr th:only-of-type {\n",
       "        vertical-align: middle;\n",
       "    }\n",
       "\n",
       "    .dataframe tbody tr th {\n",
       "        vertical-align: top;\n",
       "    }\n",
       "\n",
       "    .dataframe thead th {\n",
       "        text-align: right;\n",
       "    }\n",
       "</style>\n",
       "<table border=\"1\" class=\"dataframe\">\n",
       "  <thead>\n",
       "    <tr style=\"text-align: right;\">\n",
       "      <th></th>\n",
       "      <th>Time</th>\n",
       "      <th>V1</th>\n",
       "      <th>V2</th>\n",
       "      <th>V3</th>\n",
       "      <th>V4</th>\n",
       "      <th>V5</th>\n",
       "      <th>V6</th>\n",
       "      <th>V7</th>\n",
       "      <th>V8</th>\n",
       "      <th>V9</th>\n",
       "      <th>...</th>\n",
       "      <th>V21</th>\n",
       "      <th>V22</th>\n",
       "      <th>V23</th>\n",
       "      <th>V24</th>\n",
       "      <th>V25</th>\n",
       "      <th>V26</th>\n",
       "      <th>V27</th>\n",
       "      <th>V28</th>\n",
       "      <th>Amount</th>\n",
       "      <th>Class</th>\n",
       "    </tr>\n",
       "  </thead>\n",
       "  <tbody>\n",
       "    <tr>\n",
       "      <th>0</th>\n",
       "      <td>0.0</td>\n",
       "      <td>-1.359807</td>\n",
       "      <td>-0.072781</td>\n",
       "      <td>2.536347</td>\n",
       "      <td>1.378155</td>\n",
       "      <td>-0.338321</td>\n",
       "      <td>0.462388</td>\n",
       "      <td>0.239599</td>\n",
       "      <td>0.098698</td>\n",
       "      <td>0.363787</td>\n",
       "      <td>...</td>\n",
       "      <td>-0.018307</td>\n",
       "      <td>0.277838</td>\n",
       "      <td>-0.110474</td>\n",
       "      <td>0.066928</td>\n",
       "      <td>0.128539</td>\n",
       "      <td>-0.189115</td>\n",
       "      <td>0.133558</td>\n",
       "      <td>-0.021053</td>\n",
       "      <td>149.62</td>\n",
       "      <td>0</td>\n",
       "    </tr>\n",
       "    <tr>\n",
       "      <th>1</th>\n",
       "      <td>0.0</td>\n",
       "      <td>1.191857</td>\n",
       "      <td>0.266151</td>\n",
       "      <td>0.166480</td>\n",
       "      <td>0.448154</td>\n",
       "      <td>0.060018</td>\n",
       "      <td>-0.082361</td>\n",
       "      <td>-0.078803</td>\n",
       "      <td>0.085102</td>\n",
       "      <td>-0.255425</td>\n",
       "      <td>...</td>\n",
       "      <td>-0.225775</td>\n",
       "      <td>-0.638672</td>\n",
       "      <td>0.101288</td>\n",
       "      <td>-0.339846</td>\n",
       "      <td>0.167170</td>\n",
       "      <td>0.125895</td>\n",
       "      <td>-0.008983</td>\n",
       "      <td>0.014724</td>\n",
       "      <td>2.69</td>\n",
       "      <td>0</td>\n",
       "    </tr>\n",
       "    <tr>\n",
       "      <th>2</th>\n",
       "      <td>1.0</td>\n",
       "      <td>-1.358354</td>\n",
       "      <td>-1.340163</td>\n",
       "      <td>1.773209</td>\n",
       "      <td>0.379780</td>\n",
       "      <td>-0.503198</td>\n",
       "      <td>1.800499</td>\n",
       "      <td>0.791461</td>\n",
       "      <td>0.247676</td>\n",
       "      <td>-1.514654</td>\n",
       "      <td>...</td>\n",
       "      <td>0.247998</td>\n",
       "      <td>0.771679</td>\n",
       "      <td>0.909412</td>\n",
       "      <td>-0.689281</td>\n",
       "      <td>-0.327642</td>\n",
       "      <td>-0.139097</td>\n",
       "      <td>-0.055353</td>\n",
       "      <td>-0.059752</td>\n",
       "      <td>378.66</td>\n",
       "      <td>0</td>\n",
       "    </tr>\n",
       "    <tr>\n",
       "      <th>3</th>\n",
       "      <td>1.0</td>\n",
       "      <td>-0.966272</td>\n",
       "      <td>-0.185226</td>\n",
       "      <td>1.792993</td>\n",
       "      <td>-0.863291</td>\n",
       "      <td>-0.010309</td>\n",
       "      <td>1.247203</td>\n",
       "      <td>0.237609</td>\n",
       "      <td>0.377436</td>\n",
       "      <td>-1.387024</td>\n",
       "      <td>...</td>\n",
       "      <td>-0.108300</td>\n",
       "      <td>0.005274</td>\n",
       "      <td>-0.190321</td>\n",
       "      <td>-1.175575</td>\n",
       "      <td>0.647376</td>\n",
       "      <td>-0.221929</td>\n",
       "      <td>0.062723</td>\n",
       "      <td>0.061458</td>\n",
       "      <td>123.50</td>\n",
       "      <td>0</td>\n",
       "    </tr>\n",
       "    <tr>\n",
       "      <th>4</th>\n",
       "      <td>2.0</td>\n",
       "      <td>-1.158233</td>\n",
       "      <td>0.877737</td>\n",
       "      <td>1.548718</td>\n",
       "      <td>0.403034</td>\n",
       "      <td>-0.407193</td>\n",
       "      <td>0.095921</td>\n",
       "      <td>0.592941</td>\n",
       "      <td>-0.270533</td>\n",
       "      <td>0.817739</td>\n",
       "      <td>...</td>\n",
       "      <td>-0.009431</td>\n",
       "      <td>0.798278</td>\n",
       "      <td>-0.137458</td>\n",
       "      <td>0.141267</td>\n",
       "      <td>-0.206010</td>\n",
       "      <td>0.502292</td>\n",
       "      <td>0.219422</td>\n",
       "      <td>0.215153</td>\n",
       "      <td>69.99</td>\n",
       "      <td>0</td>\n",
       "    </tr>\n",
       "  </tbody>\n",
       "</table>\n",
       "<p>5 rows × 31 columns</p>\n",
       "</div>"
      ],
      "text/plain": [
       "   Time        V1        V2        V3        V4        V5        V6        V7  \\\n",
       "0   0.0 -1.359807 -0.072781  2.536347  1.378155 -0.338321  0.462388  0.239599   \n",
       "1   0.0  1.191857  0.266151  0.166480  0.448154  0.060018 -0.082361 -0.078803   \n",
       "2   1.0 -1.358354 -1.340163  1.773209  0.379780 -0.503198  1.800499  0.791461   \n",
       "3   1.0 -0.966272 -0.185226  1.792993 -0.863291 -0.010309  1.247203  0.237609   \n",
       "4   2.0 -1.158233  0.877737  1.548718  0.403034 -0.407193  0.095921  0.592941   \n",
       "\n",
       "         V8        V9  ...       V21       V22       V23       V24       V25  \\\n",
       "0  0.098698  0.363787  ... -0.018307  0.277838 -0.110474  0.066928  0.128539   \n",
       "1  0.085102 -0.255425  ... -0.225775 -0.638672  0.101288 -0.339846  0.167170   \n",
       "2  0.247676 -1.514654  ...  0.247998  0.771679  0.909412 -0.689281 -0.327642   \n",
       "3  0.377436 -1.387024  ... -0.108300  0.005274 -0.190321 -1.175575  0.647376   \n",
       "4 -0.270533  0.817739  ... -0.009431  0.798278 -0.137458  0.141267 -0.206010   \n",
       "\n",
       "        V26       V27       V28  Amount  Class  \n",
       "0 -0.189115  0.133558 -0.021053  149.62      0  \n",
       "1  0.125895 -0.008983  0.014724    2.69      0  \n",
       "2 -0.139097 -0.055353 -0.059752  378.66      0  \n",
       "3 -0.221929  0.062723  0.061458  123.50      0  \n",
       "4  0.502292  0.219422  0.215153   69.99      0  \n",
       "\n",
       "[5 rows x 31 columns]"
      ]
     },
     "execution_count": 4,
     "metadata": {},
     "output_type": "execute_result"
    }
   ],
   "source": [
    "dataset.head()"
   ]
  },
  {
   "cell_type": "code",
   "execution_count": 5,
   "id": "bdd0914c",
   "metadata": {
    "execution": {
     "iopub.execute_input": "2023-03-17T15:21:15.440370Z",
     "iopub.status.busy": "2023-03-17T15:21:15.439874Z",
     "iopub.status.idle": "2023-03-17T15:21:15.447288Z",
     "shell.execute_reply": "2023-03-17T15:21:15.445441Z"
    },
    "papermill": {
     "duration": 0.017569,
     "end_time": "2023-03-17T15:21:15.450584",
     "exception": false,
     "start_time": "2023-03-17T15:21:15.433015",
     "status": "completed"
    },
    "tags": []
   },
   "outputs": [
    {
     "name": "stdout",
     "output_type": "stream",
     "text": [
      "The clumns of the dataset are Index(['Time', 'V1', 'V2', 'V3', 'V4', 'V5', 'V6', 'V7', 'V8', 'V9', 'V10',\n",
      "       'V11', 'V12', 'V13', 'V14', 'V15', 'V16', 'V17', 'V18', 'V19', 'V20',\n",
      "       'V21', 'V22', 'V23', 'V24', 'V25', 'V26', 'V27', 'V28', 'Amount',\n",
      "       'Class'],\n",
      "      dtype='object')\n",
      "The shape of the dataset is (284807, 31)\n"
     ]
    }
   ],
   "source": [
    "print(f'The clumns of the dataset are {dataset.columns}')\n",
    "print(f'The shape of the dataset is {dataset.shape}')"
   ]
  },
  {
   "cell_type": "code",
   "execution_count": 6,
   "id": "a4afae55",
   "metadata": {
    "execution": {
     "iopub.execute_input": "2023-03-17T15:21:15.464044Z",
     "iopub.status.busy": "2023-03-17T15:21:15.463687Z",
     "iopub.status.idle": "2023-03-17T15:21:15.483609Z",
     "shell.execute_reply": "2023-03-17T15:21:15.482445Z"
    },
    "papermill": {
     "duration": 0.02911,
     "end_time": "2023-03-17T15:21:15.485738",
     "exception": false,
     "start_time": "2023-03-17T15:21:15.456628",
     "status": "completed"
    },
    "tags": []
   },
   "outputs": [],
   "source": [
    "X = dataset.iloc[:,:-1].values\n",
    "y = dataset.iloc[:, -1].values"
   ]
  },
  {
   "cell_type": "markdown",
   "id": "720bbe0c",
   "metadata": {
    "papermill": {
     "duration": 0.005142,
     "end_time": "2023-03-17T15:21:15.496707",
     "exception": false,
     "start_time": "2023-03-17T15:21:15.491565",
     "status": "completed"
    },
    "tags": []
   },
   "source": [
    "### Checking if there is any missing values or not"
   ]
  },
  {
   "cell_type": "code",
   "execution_count": 7,
   "id": "a4859a9b",
   "metadata": {
    "execution": {
     "iopub.execute_input": "2023-03-17T15:21:15.510572Z",
     "iopub.status.busy": "2023-03-17T15:21:15.510175Z",
     "iopub.status.idle": "2023-03-17T15:21:15.529716Z",
     "shell.execute_reply": "2023-03-17T15:21:15.528773Z"
    },
    "papermill": {
     "duration": 0.028527,
     "end_time": "2023-03-17T15:21:15.531664",
     "exception": false,
     "start_time": "2023-03-17T15:21:15.503137",
     "status": "completed"
    },
    "tags": []
   },
   "outputs": [
    {
     "data": {
      "text/plain": [
       "False"
      ]
     },
     "execution_count": 7,
     "metadata": {},
     "output_type": "execute_result"
    }
   ],
   "source": [
    "dataset.isnull().values.any()"
   ]
  },
  {
   "cell_type": "markdown",
   "id": "514c9f6f",
   "metadata": {
    "papermill": {
     "duration": 0.005198,
     "end_time": "2023-03-17T15:21:15.542568",
     "exception": false,
     "start_time": "2023-03-17T15:21:15.537370",
     "status": "completed"
    },
    "tags": []
   },
   "source": [
    "### creating a pie chart "
   ]
  },
  {
   "cell_type": "code",
   "execution_count": 8,
   "id": "ea8d9d77",
   "metadata": {
    "execution": {
     "iopub.execute_input": "2023-03-17T15:21:15.555481Z",
     "iopub.status.busy": "2023-03-17T15:21:15.555052Z",
     "iopub.status.idle": "2023-03-17T15:21:15.696225Z",
     "shell.execute_reply": "2023-03-17T15:21:15.695294Z"
    },
    "papermill": {
     "duration": 0.150325,
     "end_time": "2023-03-17T15:21:15.698354",
     "exception": false,
     "start_time": "2023-03-17T15:21:15.548029",
     "status": "completed"
    },
    "tags": []
   },
   "outputs": [
    {
     "data": {
      "image/png": "[encoded data removed]",
      "text/plain": [
       "<Figure size 640x480 with 1 Axes>"
      ]
     },
     "metadata": {},
     "output_type": "display_data"
    }
   ],
   "source": [
    "labels = dataset.Class.unique()\n",
    "sizes = dataset.Class.value_counts().values\n",
    "# print(sizes)\n",
    "\n",
    "fig, ax = plt.subplots()\n",
    "ax.pie(sizes, labels=labels, autopct='%1.3f%%')\n",
    "ax.set_title('Target variable values count')\n",
    "plt.show()"
   ]
  },
  {
   "cell_type": "markdown",
   "id": "0d93422b",
   "metadata": {
    "papermill": {
     "duration": 0.007369,
     "end_time": "2023-03-17T15:21:15.713482",
     "exception": false,
     "start_time": "2023-03-17T15:21:15.706113",
     "status": "completed"
    },
    "tags": []
   },
   "source": [
    "## Data Preprocessing"
   ]
  },
  {
   "cell_type": "code",
   "execution_count": 9,
   "id": "410a45e6",
   "metadata": {
    "execution": {
     "iopub.execute_input": "2023-03-17T15:21:15.730945Z",
     "iopub.status.busy": "2023-03-17T15:21:15.730001Z",
     "iopub.status.idle": "2023-03-17T15:21:18.230446Z",
     "shell.execute_reply": "2023-03-17T15:21:18.229290Z"
    },
    "papermill": {
     "duration": 2.511657,
     "end_time": "2023-03-17T15:21:18.232761",
     "exception": false,
     "start_time": "2023-03-17T15:21:15.721104",
     "status": "completed"
    },
    "tags": []
   },
   "outputs": [
    {
     "data": {
      "text/html": [
       "<div>\n",
       "<style scoped>\n",
       "    .dataframe tbody tr th:only-of-type {\n",
       "        vertical-align: middle;\n",
       "    }\n",
       "\n",
       "    .dataframe tbody tr th {\n",
       "        vertical-align: top;\n",
       "    }\n",
       "\n",
       "    .dataframe thead th {\n",
       "        text-align: right;\n",
       "    }\n",
       "</style>\n",
       "<table border=\"1\" class=\"dataframe\">\n",
       "  <thead>\n",
       "    <tr style=\"text-align: right;\">\n",
       "      <th></th>\n",
       "      <th>Time</th>\n",
       "      <th>V1</th>\n",
       "      <th>V2</th>\n",
       "      <th>V3</th>\n",
       "      <th>V4</th>\n",
       "      <th>V5</th>\n",
       "      <th>V6</th>\n",
       "      <th>V7</th>\n",
       "      <th>V8</th>\n",
       "      <th>V9</th>\n",
       "      <th>...</th>\n",
       "      <th>V21</th>\n",
       "      <th>V22</th>\n",
       "      <th>V23</th>\n",
       "      <th>V24</th>\n",
       "      <th>V25</th>\n",
       "      <th>V26</th>\n",
       "      <th>V27</th>\n",
       "      <th>V28</th>\n",
       "      <th>Amount</th>\n",
       "      <th>Class</th>\n",
       "    </tr>\n",
       "  </thead>\n",
       "  <tbody>\n",
       "    <tr>\n",
       "      <th>93910</th>\n",
       "      <td>64644.0</td>\n",
       "      <td>0.631215</td>\n",
       "      <td>0.191713</td>\n",
       "      <td>0.128911</td>\n",
       "      <td>0.351416</td>\n",
       "      <td>-0.091711</td>\n",
       "      <td>-0.415164</td>\n",
       "      <td>-0.001749</td>\n",
       "      <td>-0.044508</td>\n",
       "      <td>-0.228575</td>\n",
       "      <td>...</td>\n",
       "      <td>-0.345599</td>\n",
       "      <td>-1.037506</td>\n",
       "      <td>0.116059</td>\n",
       "      <td>-0.047105</td>\n",
       "      <td>0.460602</td>\n",
       "      <td>0.199627</td>\n",
       "      <td>-0.062816</td>\n",
       "      <td>0.054555</td>\n",
       "      <td>-0.345313</td>\n",
       "      <td>0</td>\n",
       "    </tr>\n",
       "  </tbody>\n",
       "</table>\n",
       "<p>1 rows × 31 columns</p>\n",
       "</div>"
      ],
      "text/plain": [
       "          Time        V1        V2        V3        V4        V5        V6  \\\n",
       "93910  64644.0  0.631215  0.191713  0.128911  0.351416 -0.091711 -0.415164   \n",
       "\n",
       "             V7        V8        V9  ...       V21       V22       V23  \\\n",
       "93910 -0.001749 -0.044508 -0.228575  ... -0.345599 -1.037506  0.116059   \n",
       "\n",
       "            V24       V25       V26       V27       V28    Amount  Class  \n",
       "93910 -0.047105  0.460602  0.199627 -0.062816  0.054555 -0.345313      0  \n",
       "\n",
       "[1 rows x 31 columns]"
      ]
     },
     "execution_count": 9,
     "metadata": {},
     "output_type": "execute_result"
    }
   ],
   "source": [
    "from sklearn.preprocessing import StandardScaler\n",
    "scaler = StandardScaler()\n",
    "dataset.iloc[:,1:-1] = scaler.fit_transform(dataset.iloc[:,1:-1])\n",
    "dataset.sample()"
   ]
  },
  {
   "cell_type": "code",
   "execution_count": 10,
   "id": "dd746146",
   "metadata": {
    "execution": {
     "iopub.execute_input": "2023-03-17T15:21:18.247516Z",
     "iopub.status.busy": "2023-03-17T15:21:18.246527Z",
     "iopub.status.idle": "2023-03-17T15:21:18.270069Z",
     "shell.execute_reply": "2023-03-17T15:21:18.268551Z"
    },
    "papermill": {
     "duration": 0.034568,
     "end_time": "2023-03-17T15:21:18.273624",
     "exception": false,
     "start_time": "2023-03-17T15:21:18.239056",
     "status": "completed"
    },
    "tags": []
   },
   "outputs": [
    {
     "data": {
      "text/html": [
       "<div>\n",
       "<style scoped>\n",
       "    .dataframe tbody tr th:only-of-type {\n",
       "        vertical-align: middle;\n",
       "    }\n",
       "\n",
       "    .dataframe tbody tr th {\n",
       "        vertical-align: top;\n",
       "    }\n",
       "\n",
       "    .dataframe thead th {\n",
       "        text-align: right;\n",
       "    }\n",
       "</style>\n",
       "<table border=\"1\" class=\"dataframe\">\n",
       "  <thead>\n",
       "    <tr style=\"text-align: right;\">\n",
       "      <th></th>\n",
       "      <th>Time</th>\n",
       "      <th>V1</th>\n",
       "      <th>V2</th>\n",
       "      <th>V3</th>\n",
       "      <th>V4</th>\n",
       "      <th>V5</th>\n",
       "      <th>V6</th>\n",
       "      <th>V7</th>\n",
       "      <th>V8</th>\n",
       "      <th>V9</th>\n",
       "      <th>...</th>\n",
       "      <th>V21</th>\n",
       "      <th>V22</th>\n",
       "      <th>V23</th>\n",
       "      <th>V24</th>\n",
       "      <th>V25</th>\n",
       "      <th>V26</th>\n",
       "      <th>V27</th>\n",
       "      <th>V28</th>\n",
       "      <th>Amount</th>\n",
       "      <th>Class</th>\n",
       "    </tr>\n",
       "  </thead>\n",
       "  <tbody>\n",
       "    <tr>\n",
       "      <th>0</th>\n",
       "      <td>0.0</td>\n",
       "      <td>-0.694242</td>\n",
       "      <td>-0.044075</td>\n",
       "      <td>1.672773</td>\n",
       "      <td>0.973366</td>\n",
       "      <td>-0.245117</td>\n",
       "      <td>0.347068</td>\n",
       "      <td>0.193679</td>\n",
       "      <td>0.082637</td>\n",
       "      <td>0.331128</td>\n",
       "      <td>...</td>\n",
       "      <td>-0.024923</td>\n",
       "      <td>0.382854</td>\n",
       "      <td>-0.176911</td>\n",
       "      <td>0.110507</td>\n",
       "      <td>0.246585</td>\n",
       "      <td>-0.392170</td>\n",
       "      <td>0.330892</td>\n",
       "      <td>-0.063781</td>\n",
       "      <td>0.244964</td>\n",
       "      <td>0</td>\n",
       "    </tr>\n",
       "    <tr>\n",
       "      <th>1</th>\n",
       "      <td>0.0</td>\n",
       "      <td>0.608496</td>\n",
       "      <td>0.161176</td>\n",
       "      <td>0.109797</td>\n",
       "      <td>0.316523</td>\n",
       "      <td>0.043483</td>\n",
       "      <td>-0.061820</td>\n",
       "      <td>-0.063700</td>\n",
       "      <td>0.071253</td>\n",
       "      <td>-0.232494</td>\n",
       "      <td>...</td>\n",
       "      <td>-0.307377</td>\n",
       "      <td>-0.880077</td>\n",
       "      <td>0.162201</td>\n",
       "      <td>-0.561131</td>\n",
       "      <td>0.320694</td>\n",
       "      <td>0.261069</td>\n",
       "      <td>-0.022256</td>\n",
       "      <td>0.044608</td>\n",
       "      <td>-0.342475</td>\n",
       "      <td>0</td>\n",
       "    </tr>\n",
       "    <tr>\n",
       "      <th>2</th>\n",
       "      <td>1.0</td>\n",
       "      <td>-0.693500</td>\n",
       "      <td>-0.811578</td>\n",
       "      <td>1.169468</td>\n",
       "      <td>0.268231</td>\n",
       "      <td>-0.364572</td>\n",
       "      <td>1.351454</td>\n",
       "      <td>0.639776</td>\n",
       "      <td>0.207373</td>\n",
       "      <td>-1.378675</td>\n",
       "      <td>...</td>\n",
       "      <td>0.337632</td>\n",
       "      <td>1.063358</td>\n",
       "      <td>1.456320</td>\n",
       "      <td>-1.138092</td>\n",
       "      <td>-0.628537</td>\n",
       "      <td>-0.288447</td>\n",
       "      <td>-0.137137</td>\n",
       "      <td>-0.181021</td>\n",
       "      <td>1.160686</td>\n",
       "      <td>0</td>\n",
       "    </tr>\n",
       "    <tr>\n",
       "      <th>3</th>\n",
       "      <td>1.0</td>\n",
       "      <td>-0.493325</td>\n",
       "      <td>-0.112169</td>\n",
       "      <td>1.182516</td>\n",
       "      <td>-0.609727</td>\n",
       "      <td>-0.007469</td>\n",
       "      <td>0.936150</td>\n",
       "      <td>0.192071</td>\n",
       "      <td>0.316018</td>\n",
       "      <td>-1.262503</td>\n",
       "      <td>...</td>\n",
       "      <td>-0.147443</td>\n",
       "      <td>0.007267</td>\n",
       "      <td>-0.304777</td>\n",
       "      <td>-1.941027</td>\n",
       "      <td>1.241904</td>\n",
       "      <td>-0.460217</td>\n",
       "      <td>0.155396</td>\n",
       "      <td>0.186189</td>\n",
       "      <td>0.140534</td>\n",
       "      <td>0</td>\n",
       "    </tr>\n",
       "    <tr>\n",
       "      <th>4</th>\n",
       "      <td>2.0</td>\n",
       "      <td>-0.591330</td>\n",
       "      <td>0.531541</td>\n",
       "      <td>1.021412</td>\n",
       "      <td>0.284655</td>\n",
       "      <td>-0.295015</td>\n",
       "      <td>0.071999</td>\n",
       "      <td>0.479302</td>\n",
       "      <td>-0.226510</td>\n",
       "      <td>0.744326</td>\n",
       "      <td>...</td>\n",
       "      <td>-0.012839</td>\n",
       "      <td>1.100011</td>\n",
       "      <td>-0.220123</td>\n",
       "      <td>0.233250</td>\n",
       "      <td>-0.395202</td>\n",
       "      <td>1.041611</td>\n",
       "      <td>0.543620</td>\n",
       "      <td>0.651816</td>\n",
       "      <td>-0.073403</td>\n",
       "      <td>0</td>\n",
       "    </tr>\n",
       "  </tbody>\n",
       "</table>\n",
       "<p>5 rows × 31 columns</p>\n",
       "</div>"
      ],
      "text/plain": [
       "   Time        V1        V2        V3        V4        V5        V6        V7  \\\n",
       "0   0.0 -0.694242 -0.044075  1.672773  0.973366 -0.245117  0.347068  0.193679   \n",
       "1   0.0  0.608496  0.161176  0.109797  0.316523  0.043483 -0.061820 -0.063700   \n",
       "2   1.0 -0.693500 -0.811578  1.169468  0.268231 -0.364572  1.351454  0.639776   \n",
       "3   1.0 -0.493325 -0.112169  1.182516 -0.609727 -0.007469  0.936150  0.192071   \n",
       "4   2.0 -0.591330  0.531541  1.021412  0.284655 -0.295015  0.071999  0.479302   \n",
       "\n",
       "         V8        V9  ...       V21       V22       V23       V24       V25  \\\n",
       "0  0.082637  0.331128  ... -0.024923  0.382854 -0.176911  0.110507  0.246585   \n",
       "1  0.071253 -0.232494  ... -0.307377 -0.880077  0.162201 -0.561131  0.320694   \n",
       "2  0.207373 -1.378675  ...  0.337632  1.063358  1.456320 -1.138092 -0.628537   \n",
       "3  0.316018 -1.262503  ... -0.147443  0.007267 -0.304777 -1.941027  1.241904   \n",
       "4 -0.226510  0.744326  ... -0.012839  1.100011 -0.220123  0.233250 -0.395202   \n",
       "\n",
       "        V26       V27       V28    Amount  Class  \n",
       "0 -0.392170  0.330892 -0.063781  0.244964      0  \n",
       "1  0.261069 -0.022256  0.044608 -0.342475      0  \n",
       "2 -0.288447 -0.137137 -0.181021  1.160686      0  \n",
       "3 -0.460217  0.155396  0.186189  0.140534      0  \n",
       "4  1.041611  0.543620  0.651816 -0.073403      0  \n",
       "\n",
       "[5 rows x 31 columns]"
      ]
     },
     "execution_count": 10,
     "metadata": {},
     "output_type": "execute_result"
    }
   ],
   "source": [
    "dataset.head()"
   ]
  },
  {
   "cell_type": "markdown",
   "id": "245814a5",
   "metadata": {
    "papermill": {
     "duration": 0.006401,
     "end_time": "2023-03-17T15:21:18.286961",
     "exception": false,
     "start_time": "2023-03-17T15:21:18.280560",
     "status": "completed"
    },
    "tags": []
   },
   "source": [
    "## Dataset Train/Test split"
   ]
  },
  {
   "cell_type": "code",
   "execution_count": 11,
   "id": "1f97fea1",
   "metadata": {
    "execution": {
     "iopub.execute_input": "2023-03-17T15:21:18.302683Z",
     "iopub.status.busy": "2023-03-17T15:21:18.301585Z",
     "iopub.status.idle": "2023-03-17T15:21:18.474739Z",
     "shell.execute_reply": "2023-03-17T15:21:18.473065Z"
    },
    "papermill": {
     "duration": 0.184,
     "end_time": "2023-03-17T15:21:18.477553",
     "exception": false,
     "start_time": "2023-03-17T15:21:18.293553",
     "status": "completed"
    },
    "tags": []
   },
   "outputs": [
    {
     "name": "stdout",
     "output_type": "stream",
     "text": [
      "X_train.shape= (190820, 30) Y_train.shape= (190820,)\n",
      "X_test.shape= (93987, 30) Y_test.shape= (93987,)\n"
     ]
    }
   ],
   "source": [
    "from sklearn.model_selection import train_test_split\n",
    "X_train, X_test, y_train, y_test = train_test_split(X, y, test_size=0.33, random_state=42)\n",
    "print('X_train.shape=', X_train.shape, 'Y_train.shape=', y_train.shape)\n",
    "print('X_test.shape=', X_test.shape, 'Y_test.shape=', y_test.shape)"
   ]
  },
  {
   "cell_type": "markdown",
   "id": "7e2ee031",
   "metadata": {
    "papermill": {
     "duration": 0.006352,
     "end_time": "2023-03-17T15:21:18.490647",
     "exception": false,
     "start_time": "2023-03-17T15:21:18.484295",
     "status": "completed"
    },
    "tags": []
   },
   "source": [
    "## Building decision tree model"
   ]
  },
  {
   "cell_type": "code",
   "execution_count": 12,
   "id": "8482ac8e",
   "metadata": {
    "execution": {
     "iopub.execute_input": "2023-03-17T15:21:18.505378Z",
     "iopub.status.busy": "2023-03-17T15:21:18.505008Z",
     "iopub.status.idle": "2023-03-17T15:21:29.895479Z",
     "shell.execute_reply": "2023-03-17T15:21:29.894193Z"
    },
    "papermill": {
     "duration": 11.401258,
     "end_time": "2023-03-17T15:21:29.898382",
     "exception": false,
     "start_time": "2023-03-17T15:21:18.497124",
     "status": "completed"
    },
    "tags": []
   },
   "outputs": [
    {
     "data": {
      "text/plain": [
       "DecisionTreeClassifier(criterion='entropy', random_state=0)"
      ]
     },
     "execution_count": 12,
     "metadata": {},
     "output_type": "execute_result"
    }
   ],
   "source": [
    "from sklearn.tree import DecisionTreeClassifier\n",
    "dtc = DecisionTreeClassifier(criterion='entropy', random_state = 0)\n",
    "dtc.fit(X_train,y_train)"
   ]
  },
  {
   "cell_type": "markdown",
   "id": "cfc0aebb",
   "metadata": {
    "papermill": {
     "duration": 0.006142,
     "end_time": "2023-03-17T15:21:29.911250",
     "exception": false,
     "start_time": "2023-03-17T15:21:29.905108",
     "status": "completed"
    },
    "tags": []
   },
   "source": [
    "### Predicting the test set results"
   ]
  },
  {
   "cell_type": "code",
   "execution_count": 13,
   "id": "6bde4d3e",
   "metadata": {
    "execution": {
     "iopub.execute_input": "2023-03-17T15:21:29.925924Z",
     "iopub.status.busy": "2023-03-17T15:21:29.925544Z",
     "iopub.status.idle": "2023-03-17T15:21:29.939687Z",
     "shell.execute_reply": "2023-03-17T15:21:29.938194Z"
    },
    "papermill": {
     "duration": 0.024903,
     "end_time": "2023-03-17T15:21:29.942603",
     "exception": false,
     "start_time": "2023-03-17T15:21:29.917700",
     "status": "completed"
    },
    "tags": []
   },
   "outputs": [
    {
     "name": "stdout",
     "output_type": "stream",
     "text": [
      "[[1 1]\n",
      " [0 0]\n",
      " [0 0]\n",
      " ...\n",
      " [0 0]\n",
      " [0 0]\n",
      " [0 0]]\n"
     ]
    }
   ],
   "source": [
    "y_pred = dtc.predict(X_test)\n",
    "print(np.concatenate((y_pred.reshape(len(y_pred),1), y_test.reshape(len(y_test),1)),1))"
   ]
  },
  {
   "cell_type": "markdown",
   "id": "bd9e166f",
   "metadata": {
    "papermill": {
     "duration": 0.006654,
     "end_time": "2023-03-17T15:21:29.956568",
     "exception": false,
     "start_time": "2023-03-17T15:21:29.949914",
     "status": "completed"
    },
    "tags": []
   },
   "source": [
    "### Making the confusion matrix"
   ]
  },
  {
   "cell_type": "code",
   "execution_count": 14,
   "id": "6b9a02b3",
   "metadata": {
    "execution": {
     "iopub.execute_input": "2023-03-17T15:21:29.972234Z",
     "iopub.status.busy": "2023-03-17T15:21:29.971818Z",
     "iopub.status.idle": "2023-03-17T15:21:29.991830Z",
     "shell.execute_reply": "2023-03-17T15:21:29.990123Z"
    },
    "papermill": {
     "duration": 0.030854,
     "end_time": "2023-03-17T15:21:29.994345",
     "exception": false,
     "start_time": "2023-03-17T15:21:29.963491",
     "status": "completed"
    },
    "tags": []
   },
   "outputs": [
    {
     "name": "stdout",
     "output_type": "stream",
     "text": [
      "[[93798    40]\n",
      " [   28   121]]\n",
      "0.9992764956855735\n"
     ]
    }
   ],
   "source": [
    "from sklearn.metrics import confusion_matrix, accuracy_score\n",
    "print(confusion_matrix(y_test, y_pred))\n",
    "print(accuracy_score(y_test, y_pred))"
   ]
  },
  {
   "cell_type": "code",
   "execution_count": null,
   "id": "d4fd9e3a",
   "metadata": {
    "papermill": {
     "duration": 0.006404,
     "end_time": "2023-03-17T15:21:30.007739",
     "exception": false,
     "start_time": "2023-03-17T15:21:30.001335",
     "status": "completed"
    },
    "tags": []
   },
   "outputs": [],
   "source": []
  }
 ],
 "metadata": {
  "kernelspec": {
   "display_name": "Python 3",
   "language": "python",
   "name": "python3"
  },
  "language_info": {
   "codemirror_mode": {
    "name": "ipython",
    "version": 3
   },
   "file_extension": ".py",
   "mimetype": "text/x-python",
   "name": "python",
   "nbconvert_exporter": "python",
   "pygments_lexer": "ipython3",
   "version": "3.7.12"
  },
  "papermill": {
   "default_parameters": {},
   "duration": 28.566804,
   "end_time": "2023-03-17T15:21:30.736030",
   "environment_variables": {},
   "exception": null,
   "input_path": "__notebook__.ipynb",
   "output_path": "__notebook__.ipynb",
   "parameters": {},
   "start_time": "2023-03-17T15:21:02.169226",
   "version": "2.4.0"
  }
 },
 "nbformat": 4,
 "nbformat_minor": 5
}
